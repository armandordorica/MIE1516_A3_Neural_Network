{
 "cells": [
  {
   "cell_type": "markdown",
   "metadata": {
    "collapsed": false
   },
   "source": [
    "# (E6) Autoencoders\n",
    "In this exercise, you will be given an example of [autoencoders](https://en.wikipedia.org/wiki/Autoencoder). \n",
    "You should be able to replicate the results given here if you have completed (E2)-(E5) correctly.\n",
    "\n",
    "It would be best if you have a Python IDE (integrated development environment) such as [PyCharm](https://www.jetbrains.com/pycharm/) and [Anaconda](anaconda.com) is installed because they will make your life easier! If not, you may want to work on the assignment using Google Colab. In any cases, what you need to do is 1) to fill in the blanks in .py files; and 2) to import the files (e.g., layer.py, optim.py, model.py, etc) that you have completed for use. Here are some scenarios how you would go about doing the assignment: \n",
    "\n",
    "#### Without Google Colab: Python IDE + Anaconda \n",
    "If you have a Python IDE and Anaconda installed, you can do one of the following:\n",
    "- Edit .py files in the IDE. Then, simply open .ipynb file also in the IDE where you can edit and run codes. \n",
    "- Your IDE might not support running .ipynb files. However, since you have installed Anaconda, you can just open this notebook using Jupyter Notebook.\n",
    "\n",
    "In both of these cases, you can simply import .py files in this .ipynb file:\n",
    "```python\n",
    "from model import NeuralNetwork\n",
    "```\n",
    " \n",
    "#### With Google Colab\n",
    "- Google Colab has an embedded code editor. So, you could simply upload all .py files to Google Colab and edit the files there. Once you upload the files, double click a file that you want to edit. Please **make sure that you download up-to-date files frequently**, otherwise Google Colab might accidentally restart and all your files might be gone.\n",
    "- If you feel like the above way is cumbersome, you could instead use any online Python editors for completing .py files (e.g., see [repl.it](https://repl.it/languages/python3)). Also, it's not impossible that you edit the files using any text editors, but they don't show you essential Python grammar information, so you'll be prone to make mistakes in that case. Once you are done editing, you can either upload the files to Colab or follow the instruction below. \n",
    " \n",
    "- If you have *git clone*d the assignment repository to a directory in your Google Drive (or you have the files stored in the Drive anyway), you can do the following:\n",
    "```jupyterpython\n",
    "from google.colab import drive\n",
    "drive.mount('/content/drive/')          # this will direct you to a link where you can get an authorization key\n",
    "import sys\n",
    "sys.path.append('/content/drive/My Drive/your-directory-where-the-python-files-exist')\n",
    "```\n",
    "Then, you are good to go. When you change a .py file, make sure it is synced to the drive, then you need to re-run the above lines to get access to the latest version of the file. Note that you should give correct path to *sys.path.append* method.\n",
    "\n",
    "Now, let's get started!\n",
    "## Autoencoder\n",
    "### Input and Target\n",
    "An autoencoder learns the latent embeddings of inputs in an unsupervised way. This is because we do not need to have specific target values associated with the inputs; however, the input data themselves will act as the targets. \n",
    "\n",
    "To see it more concretely, let's look at below code which prepares the data for learning an autoencoder. "
   ]
  },
  {
   "cell_type": "code",
   "execution_count": 1,
   "metadata": {
    "collapsed": false,
    "pycharm": {
     "is_executing": false,
     "name": "#%%\n"
    }
   },
   "outputs": [],
   "source": [
    "from model import NeuralNetwork"
   ]
  },
  {
   "cell_type": "code",
   "execution_count": null,
   "metadata": {
    "collapsed": false,
    "pycharm": {
     "name": "#%%\n"
    }
   },
   "outputs": [],
   "source": []
  },
  {
   "cell_type": "code",
   "execution_count": 2,
   "metadata": {
    "collapsed": false,
    "pycharm": {
     "is_executing": false,
     "name": "#%%\n"
    }
   },
   "outputs": [],
   "source": [
    "import numpy as np\n",
    "def generate_data(num=8):\n",
    "    \"\"\" Generate 'num' number of one-hot encoded integers. \"\"\" \n",
    "    x_train = np.eye(num)[np.arange(num)]                       # This is a simple way to one-hot encode integers\n",
    "    \n",
    "    # Repeat x_train multiple times for training\n",
    "    x_train = np.repeat(x_train, 100, axis=0)\n",
    "    \n",
    "    # The target is x_train itself!\n",
    "    x_target = x_train.copy()\n",
    "    return x_train, x_target    "
   ]
  },
  {
   "cell_type": "markdown",
   "metadata": {
    "collapsed": false,
    "pycharm": {
     "name": "#%% md\n"
    }
   },
   "source": [
    "Clearly, *x_target* is the same as *x_train*. So, what we want to do is to encode 8-bit inputs using 3 hidden nodes, which in turn will be decoded back to the original 8-bit value by the decoder. Learning an autoencoder, therefore, means that we train both the encoder weight and the decoder weight. In our example, since we have 3 hidden nodes in a single layer, the encoder weight has *[8, 3]* shape, whereas the decoder weight has *[3, 8]* shape. \n",
    "\n",
    "### Training an Autoencoder\n",
    "Now, let us train an autoencoder with the sigmoid activation function and the cross-entropy loss."
   ]
  },
  {
   "cell_type": "code",
   "execution_count": 3,
   "metadata": {
    "collapsed": false,
    "pycharm": {
     "is_executing": false,
     "name": "#%%\n"
    }
   },
   "outputs": [],
   "source": [
    "from model import NeuralNetwork\n",
    "from layer import FCLayer\n",
    "from activation import Activation\n",
    "from utils import *\n",
    "from loss import CrossEntropyLoss\n",
    "from optim import SGD, Adam, RMSProp\n",
    "# Load data\n",
    "num = 8\n",
    "np.random.seed(10)\n",
    "x_train, x_target = generate_data(num=num)"
   ]
  },
  {
   "cell_type": "code",
   "execution_count": 4,
   "metadata": {
    "collapsed": false,
    "pycharm": {
     "is_executing": false,
     "name": "#%%\n"
    }
   },
   "outputs": [],
   "source": [
    "# Define a model and add fully-connected and activation layers.\n",
    "nn = NeuralNetwork()\n",
    "nn.add(FCLayer(x_train.shape[1], 3, initialization='xavier', uniform=False))\n",
    "nn.add(Activation(sigmoid, sigmoid_prime))\n",
    "nn.add(FCLayer(3, x_train.shape[1], initialization='xavier', uniform=False))"
   ]
  },
  {
   "cell_type": "code",
   "execution_count": 5,
   "metadata": {
    "collapsed": false
   },
   "outputs": [
    {
     "data": {
      "text/plain": [
       "[<layer.FCLayer at 0x1329a4d68>,\n",
       " <activation.Activation at 0x1329a4dd8>,\n",
       " <layer.FCLayer at 0x1329a4f28>]"
      ]
     },
     "execution_count": 5,
     "metadata": {},
     "output_type": "execute_result"
    }
   ],
   "source": [
    "nn.layers"
   ]
  },
  {
   "cell_type": "markdown",
   "metadata": {
    "collapsed": false
   },
   "source": [
    "## Assigning the Cross Entropy Loss functions to the model"
   ]
  },
  {
   "cell_type": "code",
   "execution_count": 6,
   "metadata": {
    "collapsed": false,
    "pycharm": {
     "is_executing": false,
     "name": "#%%\n"
    }
   },
   "outputs": [],
   "source": [
    "# Define loss: note that CrossEntropyLoss is using the softmax output internally\n",
    "loss = CrossEntropyLoss()\n",
    "nn.set_loss(loss)"
   ]
  },
  {
   "cell_type": "code",
   "execution_count": 7,
   "metadata": {
    "collapsed": false,
    "pycharm": {
     "is_executing": false,
     "name": "#%%\n"
    }
   },
   "outputs": [],
   "source": [
    "# Set up hyperparameters\n",
    "lr = 0.001\n",
    "epochs = 2000\n",
    "freq = epochs // 10\n",
    "batch_size = 64"
   ]
  },
  {
   "cell_type": "code",
   "execution_count": 8,
   "metadata": {
    "collapsed": false
   },
   "outputs": [
    {
     "data": {
      "text/plain": [
       "(1, 8)"
      ]
     },
     "execution_count": 8,
     "metadata": {},
     "output_type": "execute_result"
    }
   ],
   "source": [
    "nn.parameters()[3].shape"
   ]
  },
  {
   "cell_type": "code",
   "execution_count": 9,
   "metadata": {
    "collapsed": false
   },
   "outputs": [
    {
     "name": "stdout",
     "output_type": "stream",
     "text": [
      "(8, 3)\n",
      "(1, 3)\n",
      "(3, 8)\n",
      "(1, 8)\n"
     ]
    }
   ],
   "source": [
    "for i in range(0,len(nn.parameters())):\n",
    "    print(nn.parameters()[i].shape)\n"
   ]
  },
  {
   "cell_type": "code",
   "execution_count": 10,
   "metadata": {
    "collapsed": false,
    "pycharm": {
     "is_executing": false,
     "name": "#%%\n"
    }
   },
   "outputs": [],
   "source": [
    "# Define optimizer and associate it with the model\n",
    "optimizer = Adam(nn.parameters(), lr=lr)\n",
    "nn.set_optimizer(optimizer)"
   ]
  },
  {
   "cell_type": "code",
   "execution_count": null,
   "metadata": {
    "collapsed": false
   },
   "outputs": [],
   "source": []
  },
  {
   "cell_type": "code",
   "execution_count": 11,
   "metadata": {
    "collapsed": false,
    "pycharm": {
     "is_executing": false,
     "name": "#%%\n"
    }
   },
   "outputs": [
    {
     "name": "stdout",
     "output_type": "stream",
     "text": [
      "\n",
      "Epoch 1/2000\tloss=0.03323\tTest loss: 2.11283\n",
      "Epoch 201/2000\tloss=0.01168\tTest loss: 0.74589\n",
      "Epoch 401/2000\tloss=0.00379\tTest loss: 0.12764\n",
      "Epoch 601/2000\tloss=0.00123\tTest loss: 0.05228\n",
      "Epoch 801/2000\tloss=0.00042\tTest loss: 0.01898\n",
      "Epoch 1001/2000\tloss=0.00015\tTest loss: 0.00911\n",
      "Epoch 1201/2000\tloss=0.00006\tTest loss: 0.00410\n",
      "Epoch 1401/2000\tloss=0.00002\tTest loss: 0.00135\n",
      "Epoch 1601/2000\tloss=0.00001\tTest loss: 0.00054\n",
      "Epoch 1801/2000\tloss=0.00000\tTest loss: 0.00015\n",
      "Training finished!\n",
      "Print prediction results:\n",
      "\tInput: [1. 0. 0. 0. 0. 0. 0. 0.]\tOutput: [[1.00e+00 3.17e-15 4.70e-05 1.37e-11 4.63e-06 1.75e-08 2.07e-11 2.43e-05]]\n",
      "\tInput: [0. 1. 0. 0. 0. 0. 0. 0.]\tOutput: [[3.25e-16 1.00e+00 2.21e-10 1.71e-05 1.10e-09 5.11e-05 1.66e-05 1.16e-10]]\n",
      "\tInput: [0. 0. 1. 0. 0. 0. 0. 0.]\tOutput: [[3.05e-05 1.81e-10 1.00e+00 3.39e-16 9.14e-10 4.94e-05 2.47e-05 1.65e-10]]\n",
      "\tInput: [0. 0. 0. 1. 0. 0. 0. 0.]\tOutput: [[1.51e-11 2.54e-05 1.48e-14 1.00e+00 8.08e-06 2.58e-08 2.03e-11 2.42e-05]]\n",
      "\tInput: [0. 0. 0. 0. 1. 0. 0. 0.]\tOutput: [[2.28e-05 1.73e-08 8.69e-08 1.86e-05 1.00e+00 2.10e-10 3.26e-05 1.44e-08]]\n",
      "\tInput: [0. 0. 0. 0. 0. 1. 0. 0.]\tOutput: [[3.36e-09 4.26e-05 2.82e-05 2.93e-09 1.19e-12 1.00e+00 2.47e-09 4.60e-05]]\n",
      "\tInput: [0. 0. 0. 0. 0. 0. 1. 0.]\tOutput: [[1.84e-11 2.56e-05 4.85e-05 1.20e-11 5.11e-06 1.57e-08 1.00e+00 2.59e-15]]\n",
      "\tInput: [0. 0. 0. 0. 0. 0. 0. 1.]\tOutput: [[1.63e-05 1.12e-10 1.96e-10 1.78e-05 9.08e-10 5.22e-05 3.12e-16 1.00e+00]]\n"
     ]
    }
   ],
   "source": [
    "# Training begins\n",
    "inds = list(range(x_train.shape[0]))\n",
    "N = x_train.shape[0]\n",
    "\n",
    "loss_hist = []\n",
    "total_pred_hist = []\n",
    "total_loss_hist = []\n",
    "for epoch in range(epochs):\n",
    "    inds = np.random.permutation(inds)\n",
    "    x_train = x_train[inds]\n",
    "    x_target = x_target[inds]\n",
    "    \n",
    "    loss = 0\n",
    "    for b in range(0, N, batch_size):\n",
    "        #0, 800, 64 \n",
    "        # get the mini-batch\n",
    "#         print(\"b:{}\".format(b))\n",
    "#         print(\"b+batch_size:{}\".format(b+batch_size))\n",
    "        x_batch = x_train[b: b+batch_size]\n",
    "#         print(\"x_batch:{}\".format(x_batch))\n",
    "        x_target_batch = x_target[b: b+batch_size]\n",
    "        \n",
    "        # feed forward\n",
    "#         print(x_batch)\n",
    "        pred = nn.predict(x_batch)\n",
    "        total_pred_hist.append(pred)\n",
    "        #pred = result from forward pass, i.e. H^{l-1}\n",
    "        \n",
    "        # Error\n",
    "        loss += nn.loss(pred, x_target_batch)/N\n",
    "        total_loss_hist.append(loss)\n",
    "        #this is the delta from the loss function\n",
    "        \n",
    "        # Back propagation of error\n",
    "        nn.backward(pred, x_target_batch)\n",
    "        \n",
    "        # Update parameters\n",
    "        nn.optimizer.step()\n",
    "    \n",
    "    # Record loss per epoch\n",
    "    loss_hist.append(loss)\n",
    "    \n",
    "    if epoch % freq == 0:\n",
    "        print()\n",
    "        print(\"Epoch %d/%d\\tloss=%.5f\" % (epoch + 1, epochs, loss), end='\\t', flush=True)\n",
    "        \n",
    "        # Test with the training data\n",
    "        pred = nn.predict(x_train, mode=False)\n",
    "        l = nn.loss(pred, x_target)\n",
    "        print(\"Test loss: {:.5f}\".format(l), end='')\n",
    "\n",
    "print(\"\\nTraining finished!\")\n",
    "print(\"Print prediction results:\")\n",
    "x_test = np.eye(num)[np.arange(num)]                        # Test data (one-hot encoded)\n",
    "np.set_printoptions(2)\n",
    "for x in x_test:\n",
    "    print(\"\\tInput: {}\\tOutput: {}\".format(x, softmax(nn.predict(x[None, :], mode=False))))"
   ]
  },
  {
   "cell_type": "code",
   "execution_count": 12,
   "metadata": {
    "collapsed": false
   },
   "outputs": [
    {
     "name": "stdout",
     "output_type": "stream",
     "text": [
      "weights of the first FCLayer:\n",
      " [[-8.46  6.3  -7.67]\n",
      " [ 8.01 -9.22  7.43]\n",
      " [ 8.06  5.35 -8.11]\n",
      " [-8.16 -8.69  7.67]\n",
      " [-8.4  -8.28 -7.72]\n",
      " [ 8.82  6.73  7.52]\n",
      " [ 7.81 -8.52 -7.65]\n",
      " [-8.64  6.8   7.64]]\n",
      "Shape: (8, 3)\n"
     ]
    }
   ],
   "source": [
    "print('weights of the first FCLayer:\\n', nn._parameters[0].value)\n",
    "print('Shape:', nn._parameters[0].shape)"
   ]
  },
  {
   "cell_type": "markdown",
   "metadata": {
    "collapsed": false,
    "pycharm": {
     "name": "#%% md\n"
    }
   },
   "source": [
    "If you look at the output values of the network, clearly we have successfully trained the autoencoder to encode-decode 8-bit integers!\n",
    "\n",
    "## (E7) Your Turn:  Explain the autoencoder\n",
    "Given the trained model that can encode the 0-7 integers, explain how the NN model learned to encode/compress the numbers. Rather than just stating your reasoning in words, do explore the model closely to see what it has learned. "
   ]
  },
  {
   "cell_type": "markdown",
   "metadata": {
    "collapsed": true
   },
   "source": [
    "$$\n",
    "loss(x, y) = - \\frac{1}{C} * \\sum_i y[i] * \\log((1 + \\exp(-x[i]))^{-1})\n",
    "                         + (1-y[i]) * \\log\\left(\\frac{\\exp(-x[i])}{(1 + \\exp(-x[i]))}\\right)\n",
    "                         $$"
   ]
  },
  {
   "cell_type": "markdown",
   "metadata": {},
   "source": [
    "The whole point of autoencoders is to achieve dimensionality reduction by removing the noise in the signal and being able to recreate the same input X with less factors. Here we can see this effect taking place since our weights and biases that we have calculated can recreate the whole input set with high accuracy. "
   ]
  },
  {
   "cell_type": "code",
   "execution_count": 13,
   "metadata": {
    "collapsed": false
   },
   "outputs": [],
   "source": [
    "loss_hist = np.array(loss_hist).astype(float)"
   ]
  },
  {
   "cell_type": "code",
   "execution_count": 14,
   "metadata": {
    "collapsed": false
   },
   "outputs": [
    {
     "data": {
      "image/png": "[encoded data removed]",
      "text/plain": [
       "<Figure size 432x288 with 1 Axes>"
      ]
     },
     "metadata": {
      "needs_background": "light"
     },
     "output_type": "display_data"
    }
   ],
   "source": [
    "import matplotlib.pyplot as plt\n",
    "%matplotlib inline\n",
    "plt.plot(loss_hist) # Plot list. x-values assumed to be [0, 1, 2, 3]\n",
    "plt.title(\"Loss history\")\n",
    "plt.show() "
   ]
  },
  {
   "cell_type": "markdown",
   "metadata": {},
   "source": [
    "### First fully connected layer"
   ]
  },
  {
   "cell_type": "code",
   "execution_count": 15,
   "metadata": {
    "collapsed": false
   },
   "outputs": [
    {
     "name": "stdout",
     "output_type": "stream",
     "text": [
      "Input data to this layer:\n",
      "[[0. 0. 0. 0. 0. 0. 0. 1.]]\n",
      "Shape of each weight vector for FCN layer 1:(8, 3)\n",
      "Weight vector in this layer:\n",
      "[[-8.46  6.3  -7.67]\n",
      " [ 8.01 -9.22  7.43]\n",
      " [ 8.06  5.35 -8.11]\n",
      " [-8.16 -8.69  7.67]\n",
      " [-8.4  -8.28 -7.72]\n",
      " [ 8.82  6.73  7.52]\n",
      " [ 7.81 -8.52 -7.65]\n",
      " [-8.64  6.8   7.64]]\n",
      ".............\n",
      "Shape of each weight vector for FCN layer 1:(1, 3)\n",
      "Bias vector in this layer:[[-0.05  1.07 -0.05]]\n",
      "Output of first fully connected layer:\n",
      "[[-8.69  7.87  7.58]]\n"
     ]
    }
   ],
   "source": [
    "print(\"Input data to this layer:\\n{}\".format(nn.layers[0].input_data))\n",
    "print(\"Shape of each weight vector for FCN layer 1:{}\".format(nn.layers[0].all_weights[0].shape))\n",
    "print(\"Weight vector in this layer:\\n{}\".format(nn.layers[0].all_weights[0]))\n",
    "print(\".............\")\n",
    "print(\"Shape of each weight vector for FCN layer 1:{}\".format(nn.layers[0].bias.value.shape))\n",
    "print(\"Bias vector in this layer:{}\".format(nn.layers[0].bias.value))\n",
    "print(\"Output of first fully connected layer:\\n{}\".format(nn.layers[0].output))"
   ]
  },
  {
   "cell_type": "markdown",
   "metadata": {},
   "source": [
    "### Activation layer"
   ]
  },
  {
   "cell_type": "code",
   "execution_count": 16,
   "metadata": {
    "collapsed": false
   },
   "outputs": [
    {
     "name": "stdout",
     "output_type": "stream",
     "text": [
      "Input data to this layer:[[-8.69  7.87  7.58]]\n",
      "Activation function for this layer:<function sigmoid at 0x1234aea60>\n",
      "Diff loss for this layer:<function sigmoid_prime at 0x1234aeae8>\n",
      "Output data to this layer:[[1.68e-04 1.00e+00 9.99e-01]]\n"
     ]
    }
   ],
   "source": [
    "print(\"Input data to this layer:{}\".format(nn.layers[1].input_data))\n",
    "print(\"Activation function for this layer:{}\".format(nn.layers[1].act))\n",
    "print(\"Diff loss for this layer:{}\".format(nn.layers[1].act_prime))\n",
    "print(\"Output data to this layer:{}\".format(nn.layers[1].output))"
   ]
  },
  {
   "cell_type": "markdown",
   "metadata": {},
   "source": [
    "### Second Fully connected layer"
   ]
  },
  {
   "cell_type": "code",
   "execution_count": 17,
   "metadata": {
    "collapsed": false
   },
   "outputs": [
    {
     "name": "stdout",
     "output_type": "stream",
     "text": [
      "Input data to this layer:\n",
      "[[1.68e-04 1.00e+00 9.99e-01]]\n",
      "Shape of each weight vector for FCN layer 1:(3, 8)\n",
      "Weight vector in this layer:\n",
      "[[-13.64   7.7    6.73 -13.87 -11.8    4.71  10.74 -15.14]\n",
      " [ 10.88 -15.36   6.48 -13.97 -12.13   4.6  -14.11   7.61]\n",
      " [-13.7    7.83 -15.07  11.43 -11.21   5.35 -13.77   7.97]]\n",
      ".............\n",
      "Shape of each weight vector for FCN layer 1:(1, 8)\n",
      "Bias vector in this layer:[[ 2.   -5.18 -3.57  1.8  12.7  -9.6   2.37 -5.38]]\n",
      "Output of first fully connected layer:\n",
      "[[ -0.83 -12.71 -12.16  -0.74 -10.62   0.34 -25.51  10.2 ]]\n"
     ]
    }
   ],
   "source": [
    "print(\"Input data to this layer:\\n{}\".format(nn.layers[2].input_data))\n",
    "print(\"Shape of each weight vector for FCN layer 1:{}\".format(nn.layers[2].all_weights[0].shape))\n",
    "print(\"Weight vector in this layer:\\n{}\".format(nn.layers[2].all_weights[0]))\n",
    "print(\".............\")\n",
    "print(\"Shape of each weight vector for FCN layer 1:{}\".format(nn.layers[2].bias.value.shape))\n",
    "print(\"Bias vector in this layer:{}\".format(nn.layers[2].bias.value))\n",
    "print(\"Output of first fully connected layer:\\n{}\".format(nn.layers[2].output))"
   ]
  },
  {
   "cell_type": "code",
   "execution_count": 18,
   "metadata": {
    "collapsed": false
   },
   "outputs": [],
   "source": [
    "def softmax(U):\n",
    "    # A numerically-stable implementation of the softmax function\n",
    "    return np.exp(array)/sum(np.exp(array))\n"
   ]
  },
  {
   "cell_type": "code",
   "execution_count": 19,
   "metadata": {
    "collapsed": false
   },
   "outputs": [
    {
     "name": "stdout",
     "output_type": "stream",
     "text": [
      "[0.73 0.5  0.5  0.5  0.5  0.5  0.5  0.5 ]\n",
      "[0.5  0.73 0.5  0.5  0.5  0.5  0.5  0.5 ]\n",
      "[0.5  0.5  0.73 0.5  0.5  0.5  0.5  0.5 ]\n",
      "[0.5  0.5  0.5  0.73 0.5  0.5  0.5  0.5 ]\n",
      "[0.5  0.5  0.5  0.5  0.73 0.5  0.5  0.5 ]\n",
      "[0.5  0.5  0.5  0.5  0.5  0.73 0.5  0.5 ]\n",
      "[0.5  0.5  0.5  0.5  0.5  0.5  0.73 0.5 ]\n",
      "[0.5  0.5  0.5  0.5  0.5  0.5  0.5  0.73]\n"
     ]
    }
   ],
   "source": [
    "for i in x_test:\n",
    "    print(nn.layers[1].forward(i, mode=False))\n",
    "#     print(nn.layers[1].forward(i, mode=False))"
   ]
  },
  {
   "cell_type": "code",
   "execution_count": 20,
   "metadata": {
    "collapsed": false
   },
   "outputs": [],
   "source": [
    "array = nn.layers[1].forward(i, mode=False)"
   ]
  },
  {
   "cell_type": "code",
   "execution_count": 21,
   "metadata": {
    "collapsed": false
   },
   "outputs": [
    {
     "data": {
      "text/plain": [
       "array([0.12, 0.12, 0.12, 0.12, 0.12, 0.12, 0.12, 0.15])"
      ]
     },
     "execution_count": 21,
     "metadata": {},
     "output_type": "execute_result"
    }
   ],
   "source": [
    "softmax(array)"
   ]
  },
  {
   "cell_type": "code",
   "execution_count": 22,
   "metadata": {
    "collapsed": false
   },
   "outputs": [
    {
     "ename": "SyntaxError",
     "evalue": "invalid syntax (<ipython-input-22-c36b532628bd>, line 1)",
     "output_type": "error",
     "traceback": [
      "\u001b[0;36m  File \u001b[0;32m\"<ipython-input-22-c36b532628bd>\"\u001b[0;36m, line \u001b[0;32m1\u001b[0m\n\u001b[0;31m    softmax(x) = /sum(np.exp(x))\u001b[0m\n\u001b[0m                 ^\u001b[0m\n\u001b[0;31mSyntaxError\u001b[0m\u001b[0;31m:\u001b[0m invalid syntax\n"
     ]
    }
   ],
   "source": [
    "softmax(x) = /sum(np.exp(x))"
   ]
  },
  {
   "cell_type": "code",
   "execution_count": null,
   "metadata": {
    "collapsed": false
   },
   "outputs": [],
   "source": [
    "np.exp(array)/sum(np.exp(array))"
   ]
  },
  {
   "cell_type": "code",
   "execution_count": null,
   "metadata": {
    "collapsed": false
   },
   "outputs": [],
   "source": []
  },
  {
   "cell_type": "code",
   "execution_count": null,
   "metadata": {
    "collapsed": true
   },
   "outputs": [],
   "source": []
  }
 ],
 "metadata": {
  "kernelspec": {
   "display_name": "Python 3",
   "language": "python",
   "name": "python3"
  },
  "language_info": {
   "codemirror_mode": {
    "name": "ipython",
    "version": 3
   },
   "file_extension": ".py",
   "mimetype": "text/x-python",
   "name": "python",
   "nbconvert_exporter": "python",
   "pygments_lexer": "ipython3",
   "version": "3.7.3"
  },
  "pycharm": {
   "stem_cell": {
    "cell_type": "raw",
    "metadata": {
     "collapsed": false
    },
    "source": []
   }
  }
 },
 "nbformat": 4,
 "nbformat_minor": 0
}
