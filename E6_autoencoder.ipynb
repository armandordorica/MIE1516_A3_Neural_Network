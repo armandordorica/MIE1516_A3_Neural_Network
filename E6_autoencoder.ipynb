{
 "cells": [
  {
   "cell_type": "markdown",
   "metadata": {
    "collapsed": false
   },
   "source": [
    "# (E6) Autoencoders\n",
    "In this exercise, you will be given an example of [autoencoders](https://en.wikipedia.org/wiki/Autoencoder). \n",
    "You should be able to replicate the results given here if you have completed (E2)-(E5) correctly.\n",
    "\n",
    "It would be best if you have a Python IDE (integrated development environment) such as [PyCharm](https://www.jetbrains.com/pycharm/) and [Anaconda](anaconda.com) is installed because they will make your life easier! If not, you may want to work on the assignment using Google Colab. In any cases, what you need to do is 1) to fill in the blanks in .py files; and 2) to import the files (e.g., layer.py, optim.py, model.py, etc) that you have completed for use. Here are some scenarios how you would go about doing the assignment: \n",
    "\n",
    "#### Without Google Colab: Python IDE + Anaconda \n",
    "If you have a Python IDE and Anaconda installed, you can do one of the following:\n",
    "- Edit .py files in the IDE. Then, simply open .ipynb file also in the IDE where you can edit and run codes. \n",
    "- Your IDE might not support running .ipynb files. However, since you have installed Anaconda, you can just open this notebook using Jupyter Notebook.\n",
    "\n",
    "In both of these cases, you can simply import .py files in this .ipynb file:\n",
    "```python\n",
    "from model import NeuralNetwork\n",
    "```\n",
    " \n",
    "#### With Google Colab\n",
    "- Google Colab has an embedded code editor. So, you could simply upload all .py files to Google Colab and edit the files there. Once you upload the files, double click a file that you want to edit. Please **make sure that you download up-to-date files frequently**, otherwise Google Colab might accidentally restart and all your files might be gone.\n",
    "- If you feel like the above way is cumbersome, you could instead use any online Python editors for completing .py files (e.g., see [repl.it](https://repl.it/languages/python3)). Also, it's not impossible that you edit the files using any text editors, but they don't show you essential Python grammar information, so you'll be prone to make mistakes in that case. Once you are done editing, you can either upload the files to Colab or follow the instruction below. \n",
    " \n",
    "- If you have *git clone*d the assignment repository to a directory in your Google Drive (or you have the files stored in the Drive anyway), you can do the following:\n",
    "```jupyterpython\n",
    "from google.colab import drive\n",
    "drive.mount('/content/drive/')          # this will direct you to a link where you can get an authorization key\n",
    "import sys\n",
    "sys.path.append('/content/drive/My Drive/your-directory-where-the-python-files-exist')\n",
    "```\n",
    "Then, you are good to go. When you change a .py file, make sure it is synced to the drive, then you need to re-run the above lines to get access to the latest version of the file. Note that you should give correct path to *sys.path.append* method.\n",
    "\n",
    "Now, let's get started!\n",
    "## Autoencoder\n",
    "### Input and Target\n",
    "An autoencoder learns the latent embeddings of inputs in an unsupervised way. This is because we do not need to have specific target values associated with the inputs; however, the input data themselves will act as the targets. \n",
    "\n",
    "To see it more concretely, let's look at below code which prepares the data for learning an autoencoder. "
   ]
  },
  {
   "cell_type": "code",
   "execution_count": 1,
   "metadata": {
    "collapsed": false,
    "pycharm": {
     "is_executing": false,
     "name": "#%%\n"
    }
   },
   "outputs": [],
   "source": [
    "from model import NeuralNetwork"
   ]
  },
  {
   "cell_type": "code",
   "execution_count": null,
   "metadata": {
    "collapsed": false,
    "pycharm": {
     "name": "#%%\n"
    }
   },
   "outputs": [],
   "source": []
  },
  {
   "cell_type": "code",
   "execution_count": 2,
   "metadata": {
    "collapsed": false,
    "pycharm": {
     "is_executing": false,
     "name": "#%%\n"
    }
   },
   "outputs": [],
   "source": [
    "import numpy as np\n",
    "def generate_data(num=8):\n",
    "    \"\"\" Generate 'num' number of one-hot encoded integers. \"\"\" \n",
    "    x_train = np.eye(num)[np.arange(num)]                       # This is a simple way to one-hot encode integers\n",
    "    \n",
    "    # Repeat x_train multiple times for training\n",
    "    x_train = np.repeat(x_train, 100, axis=0)\n",
    "    \n",
    "    # The target is x_train itself!\n",
    "    x_target = x_train.copy()\n",
    "    return x_train, x_target    "
   ]
  },
  {
   "cell_type": "markdown",
   "metadata": {
    "collapsed": false,
    "pycharm": {
     "name": "#%% md\n"
    }
   },
   "source": [
    "Clearly, *x_target* is the same as *x_train*. So, what we want to do is to encode 8-bit inputs using 3 hidden nodes, which in turn will be decoded back to the original 8-bit value by the decoder. Learning an autoencoder, therefore, means that we train both the encoder weight and the decoder weight. In our example, since we have 3 hidden nodes in a single layer, the encoder weight has *[8, 3]* shape, whereas the decoder weight has *[3, 8]* shape. \n",
    "\n",
    "### Training an Autoencoder\n",
    "Now, let us train an autoencoder with the sigmoid activation function and the cross-entropy loss."
   ]
  },
  {
   "cell_type": "code",
   "execution_count": 3,
   "metadata": {
    "collapsed": false,
    "pycharm": {
     "is_executing": false,
     "name": "#%%\n"
    }
   },
   "outputs": [],
   "source": [
    "from model import NeuralNetwork\n",
    "from layer import FCLayer\n",
    "from activation import Activation\n",
    "from utils import *\n",
    "from loss import CrossEntropyLoss\n",
    "from optim import SGD, Adam, RMSProp\n",
    "# Load data\n",
    "num = 8\n",
    "np.random.seed(10)\n",
    "x_train, x_target = generate_data(num=num)"
   ]
  },
  {
   "cell_type": "code",
   "execution_count": 4,
   "metadata": {
    "collapsed": false,
    "pycharm": {
     "is_executing": false,
     "name": "#%%\n"
    }
   },
   "outputs": [],
   "source": [
    "# Define a model and add fully-connected and activation layers.\n",
    "nn = NeuralNetwork()\n",
    "nn.add(FCLayer(x_train.shape[1], 3, initialization='xavier', uniform=False))\n",
    "nn.add(Activation(sigmoid, sigmoid_prime))\n",
    "nn.add(FCLayer(3, x_train.shape[1], initialization='xavier', uniform=False))"
   ]
  },
  {
   "cell_type": "code",
   "execution_count": 5,
   "metadata": {
    "collapsed": false
   },
   "outputs": [
    {
     "data": {
      "text/plain": [
       "[<layer.FCLayer at 0x12c15cd68>,\n",
       " <activation.Activation at 0x12c15cdd8>,\n",
       " <layer.FCLayer at 0x12c15cef0>]"
      ]
     },
     "execution_count": 5,
     "metadata": {},
     "output_type": "execute_result"
    }
   ],
   "source": [
    "nn.layers"
   ]
  },
  {
   "cell_type": "markdown",
   "metadata": {
    "collapsed": false
   },
   "source": [
    "## Assigning the Cross Entropy Loss functions to the model"
   ]
  },
  {
   "cell_type": "code",
   "execution_count": 6,
   "metadata": {
    "collapsed": false,
    "pycharm": {
     "is_executing": false,
     "name": "#%%\n"
    }
   },
   "outputs": [],
   "source": [
    "# Define loss: note that CrossEntropyLoss is using the softmax output internally\n",
    "loss = CrossEntropyLoss()\n",
    "nn.set_loss(loss)"
   ]
  },
  {
   "cell_type": "code",
   "execution_count": 7,
   "metadata": {
    "collapsed": false,
    "pycharm": {
     "is_executing": false,
     "name": "#%%\n"
    }
   },
   "outputs": [],
   "source": [
    "# Set up hyperparameters\n",
    "lr = 0.001\n",
    "epochs = 10\n",
    "freq = epochs // 10\n",
    "batch_size = 64"
   ]
  },
  {
   "cell_type": "code",
   "execution_count": 8,
   "metadata": {
    "collapsed": false
   },
   "outputs": [
    {
     "data": {
      "text/plain": [
       "(1, 8)"
      ]
     },
     "execution_count": 8,
     "metadata": {},
     "output_type": "execute_result"
    }
   ],
   "source": [
    "nn.parameters()[3].shape"
   ]
  },
  {
   "cell_type": "code",
   "execution_count": 9,
   "metadata": {
    "collapsed": false
   },
   "outputs": [
    {
     "name": "stdout",
     "output_type": "stream",
     "text": [
      "(8, 3)\n",
      "(1, 3)\n",
      "(3, 8)\n",
      "(1, 8)\n"
     ]
    }
   ],
   "source": [
    "for i in range(0,len(nn.parameters())):\n",
    "    print(nn.parameters()[i].shape)\n"
   ]
  },
  {
   "cell_type": "code",
   "execution_count": 10,
   "metadata": {
    "collapsed": false,
    "pycharm": {
     "is_executing": false,
     "name": "#%%\n"
    }
   },
   "outputs": [],
   "source": [
    "# Define optimizer and associate it with the model\n",
    "optimizer = Adam(nn.parameters(), lr=lr)\n",
    "nn.set_optimizer(optimizer)"
   ]
  },
  {
   "cell_type": "code",
   "execution_count": null,
   "metadata": {
    "collapsed": false
   },
   "outputs": [],
   "source": []
  },
  {
   "cell_type": "code",
   "execution_count": 11,
   "metadata": {
    "collapsed": false,
    "pycharm": {
     "is_executing": false,
     "name": "#%%\n"
    }
   },
   "outputs": [
    {
     "name": "stdout",
     "output_type": "stream",
     "text": [
      "option 3 loss:2.1276557004258674\n",
      "\n",
      "pytorch loss:2.086113452911377\n",
      "option 3 loss:2.175355017058844\n",
      "\n",
      "pytorch loss:2.0686826705932617\n",
      "option 3 loss:2.1226691500323085\n",
      "\n",
      "pytorch loss:2.0685482025146484\n",
      "option 3 loss:2.150475663916477\n",
      "\n",
      "pytorch loss:2.0372414588928223\n",
      "option 3 loss:2.152449904953823\n",
      "\n",
      "pytorch loss:2.1298716068267822\n",
      "option 3 loss:2.1021293696968284\n",
      "\n",
      "pytorch loss:2.021692991256714\n",
      "option 3 loss:2.1469013785644866\n",
      "\n",
      "pytorch loss:2.130274534225464\n",
      "option 3 loss:2.1879137247303104\n",
      "\n",
      "pytorch loss:2.0862395763397217\n",
      "option 3 loss:2.17316339005656\n",
      "\n",
      "pytorch loss:2.0708377361297607\n",
      "option 3 loss:2.127645948200877\n",
      "\n",
      "pytorch loss:2.0209100246429443\n",
      "option 3 loss:2.1397588371400884\n",
      "\n",
      "pytorch loss:2.1251702308654785\n",
      "option 3 loss:2.219186608121445\n",
      "\n",
      "pytorch loss:2.020507574081421\n",
      "option 3 loss:2.018195250139778\n",
      "\n",
      "pytorch loss:2.035653591156006\n",
      "\n",
      "Epoch 1/10\tloss=0.03363\toption 3 loss:2.1506906737089544\n",
      "\n",
      "pytorch loss:2.0862066745758057\n",
      "Test loss: 2.08621option 3 loss:2.138716099021134\n",
      "\n",
      "pytorch loss:2.1316661834716797\n",
      "option 3 loss:2.111686997826042\n",
      "\n",
      "pytorch loss:2.0199835300445557\n",
      "option 3 loss:2.15279242476912\n",
      "\n",
      "pytorch loss:2.0861144065856934\n",
      "option 3 loss:2.1633838336515323\n",
      "\n",
      "pytorch loss:2.0197017192840576\n",
      "option 3 loss:2.209450879007564\n",
      "\n",
      "pytorch loss:2.1225805282592773\n",
      "option 3 loss:2.3057027536570383\n",
      "\n",
      "pytorch loss:2.1227924823760986\n",
      "option 3 loss:2.162193101445637\n",
      "\n",
      "pytorch loss:2.0860016345977783\n",
      "option 3 loss:2.1197697058894267\n",
      "\n",
      "pytorch loss:2.067896842956543\n",
      "option 3 loss:2.1945124288190008\n",
      "\n",
      "pytorch loss:2.127426862716675\n",
      "option 3 loss:2.125466466027901\n",
      "\n",
      "pytorch loss:2.085999011993408\n",
      "option 3 loss:2.1013655512072296\n",
      "\n",
      "pytorch loss:2.018327474594116\n",
      "option 3 loss:2.1399306883081124\n",
      "\n",
      "pytorch loss:2.069552421569824\n",
      "option 3 loss:1.9878352742823662\n",
      "\n",
      "pytorch loss:2.033787965774536\n",
      "\n",
      "Epoch 2/10\tloss=0.03374\toption 3 loss:2.1580180175785375\n",
      "\n",
      "pytorch loss:2.1341190338134766\n",
      "Test loss: 2.13412option 3 loss:2.134192640138304\n",
      "\n",
      "pytorch loss:2.0336360931396484\n",
      "option 3 loss:2.123774157395414\n",
      "\n",
      "pytorch loss:2.0858941078186035\n",
      "option 3 loss:2.118474416750292\n",
      "\n",
      "pytorch loss:2.0175130367279053\n",
      "option 3 loss:2.1338704530694192\n",
      "\n",
      "pytorch loss:2.0678815841674805\n",
      "option 3 loss:2.106304978991143\n",
      "\n",
      "pytorch loss:2.0330562591552734\n",
      "option 3 loss:2.1832175213700666\n",
      "\n",
      "pytorch loss:2.069225311279297\n",
      "option 3 loss:2.1564379665897997\n",
      "\n",
      "pytorch loss:2.0678324699401855\n",
      "option 3 loss:2.2145076379178543\n",
      "\n",
      "pytorch loss:2.0326921939849854\n",
      "option 3 loss:2.2427493219046317\n",
      "\n",
      "pytorch loss:2.0677733421325684\n",
      "option 3 loss:2.1475265419074714\n",
      "\n",
      "pytorch loss:2.0324153900146484\n",
      "option 3 loss:2.207384198815618\n",
      "\n",
      "pytorch loss:2.068953514099121\n",
      "option 3 loss:2.20739529586831\n",
      "\n",
      "pytorch loss:2.1305954456329346\n",
      "option 3 loss:2.0817231245558516\n",
      "\n",
      "pytorch loss:2.068795919418335\n",
      "\n",
      "Epoch 3/10\tloss=0.03347\toption 3 loss:2.1655118734540406\n",
      "\n",
      "pytorch loss:2.0317256450653076\n",
      "Test loss: 2.03173option 3 loss:2.1588816584189634\n",
      "\n",
      "pytorch loss:2.0676989555358887\n",
      "option 3 loss:2.1399921431493225\n",
      "\n",
      "pytorch loss:2.1366000175476074\n",
      "option 3 loss:2.116943784387643\n",
      "\n",
      "pytorch loss:2.0152945518493652\n",
      "option 3 loss:2.165843233835288\n",
      "\n",
      "pytorch loss:2.0684993267059326\n",
      "option 3 loss:2.1781567300271787\n",
      "\n",
      "pytorch loss:2.085458993911743\n",
      "option 3 loss:2.158804656967315\n",
      "\n",
      "pytorch loss:2.1320879459381104\n",
      "option 3 loss:2.2871074663647706\n",
      "\n",
      "pytorch loss:2.132314682006836\n",
      "option 3 loss:2.0533198749256014\n",
      "\n",
      "pytorch loss:2.1325597763061523\n",
      "option 3 loss:2.1923472871178054\n",
      "\n",
      "pytorch loss:2.128500461578369\n",
      "option 3 loss:2.129704744274005\n",
      "\n",
      "pytorch loss:2.030240535736084\n",
      "option 3 loss:2.1803423923345955\n",
      "\n",
      "pytorch loss:2.0681025981903076\n",
      "option 3 loss:2.2592101231495363\n",
      "\n",
      "pytorch loss:2.1291067600250244\n",
      "option 3 loss:2.194223300403797\n",
      "\n",
      "pytorch loss:2.1386911869049072\n",
      "\n",
      "Epoch 4/10\tloss=0.03408\toption 3 loss:2.1741803417848002\n",
      "\n",
      "pytorch loss:2.0673367977142334\n",
      "Test loss: 2.06734option 3 loss:2.241475071002591\n",
      "\n",
      "pytorch loss:2.013270854949951\n",
      "option 3 loss:2.0682512244419\n",
      "\n",
      "pytorch loss:2.029388666152954\n",
      "option 3 loss:2.206816046989248\n",
      "\n",
      "pytorch loss:2.0292201042175293\n",
      "option 3 loss:2.137505694804805\n",
      "\n",
      "pytorch loss:2.085498332977295\n",
      "option 3 loss:2.1743522812491607\n",
      "\n",
      "pytorch loss:2.0854973793029785\n",
      "option 3 loss:2.2131231842092505\n",
      "\n",
      "pytorch loss:2.1399178504943848\n",
      "option 3 loss:2.238145024371299\n",
      "\n",
      "pytorch loss:2.1307599544525146\n",
      "option 3 loss:2.148394280371808\n",
      "\n",
      "pytorch loss:2.0118768215179443\n",
      "option 3 loss:2.1996745016881083\n",
      "\n",
      "pytorch loss:2.0672478675842285\n",
      "option 3 loss:2.149207929606958\n",
      "\n",
      "pytorch loss:2.1407394409179688\n",
      "option 3 loss:2.1852538413111167\n",
      "\n",
      "pytorch loss:2.0276880264282227\n",
      "option 3 loss:2.2153235861758085\n",
      "\n",
      "pytorch loss:2.027498245239258\n",
      "option 3 loss:2.1063774558439916\n",
      "\n",
      "pytorch loss:2.1366045475006104\n",
      "\n",
      "Epoch 5/10\tloss=0.03366\toption 3 loss:2.1839941482382756\n",
      "\n",
      "pytorch loss:2.010651111602783\n",
      "Test loss: 2.01065option 3 loss:2.254749679705248\n",
      "\n",
      "pytorch loss:2.1368350982666016\n",
      "option 3 loss:2.2241350750018998\n",
      "\n",
      "pytorch loss:2.0270087718963623\n",
      "option 3 loss:2.186251179179447\n",
      "\n",
      "pytorch loss:2.1327812671661377\n",
      "option 3 loss:2.0526800035314414\n",
      "\n",
      "pytorch loss:2.066610336303711\n",
      "option 3 loss:2.2294311223399856\n",
      "\n",
      "pytorch loss:2.026564121246338\n",
      "option 3 loss:2.222757825669275\n",
      "\n",
      "pytorch loss:2.0664379596710205\n",
      "option 3 loss:2.1496603682485422\n",
      "\n",
      "pytorch loss:2.0856356620788574\n",
      "option 3 loss:2.2119546043925205\n",
      "\n",
      "pytorch loss:2.133924961090088\n",
      "option 3 loss:2.133782758852975\n",
      "\n",
      "pytorch loss:2.066159725189209\n",
      "option 3 loss:2.1904460345622145\n",
      "\n",
      "pytorch loss:2.138972282409668\n",
      "option 3 loss:2.239167332024943\n",
      "\n",
      "pytorch loss:2.1392102241516113\n",
      "option 3 loss:2.2013008891487558\n",
      "\n",
      "pytorch loss:2.0668628215789795\n",
      "option 3 loss:2.1213642190789908\n",
      "\n",
      "pytorch loss:2.008110761642456\n",
      "\n",
      "Epoch 6/10\tloss=0.03387\toption 3 loss:2.1948649015875894\n",
      "\n",
      "pytorch loss:2.1399624347686768\n",
      "Test loss: 2.13996option 3 loss:2.123668410079967\n",
      "\n",
      "pytorch loss:2.0667977333068848\n",
      "option 3 loss:2.145803163418588\n",
      "\n",
      "pytorch loss:2.1355018615722656\n",
      "option 3 loss:2.1912943720733766\n",
      "\n",
      "pytorch loss:2.066793918609619\n",
      "option 3 loss:2.112168765039793\n",
      "\n",
      "pytorch loss:2.0857064723968506\n",
      "option 3 loss:2.310609335266061\n",
      "\n",
      "pytorch loss:2.13613224029541\n",
      "option 3 loss:2.204718868529596\n",
      "\n",
      "pytorch loss:2.1363589763641357\n",
      "option 3 loss:2.126558817174871\n",
      "\n",
      "pytorch loss:2.0653698444366455\n",
      "option 3 loss:2.240193093730131\n",
      "\n",
      "pytorch loss:2.08577036857605\n",
      "option 3 loss:2.278128013601445\n",
      "\n",
      "pytorch loss:2.1370351314544678\n",
      "option 3 loss:2.158209595806005\n",
      "\n",
      "pytorch loss:2.1420581340789795\n",
      "option 3 loss:2.251004917096948\n",
      "\n",
      "pytorch loss:2.065072536468506\n",
      "option 3 loss:2.284173989579539\n",
      "\n",
      "pytorch loss:2.1425764560699463\n",
      "option 3 loss:2.1543654447875715\n",
      "\n",
      "pytorch loss:2.022871494293213\n",
      "\n",
      "Epoch 7/10\tloss=0.03411\toption 3 loss:2.2066189525605266\n",
      "\n",
      "pytorch loss:2.066512107849121\n",
      "Test loss: 2.06651option 3 loss:2.181704744677185\n",
      "\n",
      "pytorch loss:2.005232810974121\n",
      "option 3 loss:2.197988535375746\n",
      "\n",
      "pytorch loss:2.005032539367676\n",
      "option 3 loss:2.0941381145272597\n",
      "\n",
      "pytorch loss:2.064598560333252\n",
      "option 3 loss:2.2898357218490677\n",
      "\n",
      "pytorch loss:2.138918876647949\n",
      "option 3 loss:2.29438732836326\n",
      "\n",
      "pytorch loss:2.139157295227051\n",
      "option 3 loss:2.2858024996663855\n",
      "\n",
      "pytorch loss:2.0662341117858887\n",
      "option 3 loss:2.270077874121848\n",
      "\n",
      "pytorch loss:2.0642364025115967\n",
      "option 3 loss:2.3298478034851873\n",
      "\n",
      "pytorch loss:2.021365165710449\n",
      "option 3 loss:2.1179520404622476\n",
      "\n",
      "pytorch loss:2.0859673023223877\n",
      "option 3 loss:2.2289680314030536\n",
      "\n",
      "pytorch loss:2.1455674171447754\n",
      "option 3 loss:2.09382817126313\n",
      "\n",
      "pytorch loss:2.0207388401031494\n",
      "option 3 loss:2.242532350260115\n",
      "\n",
      "pytorch loss:2.1495542526245117\n",
      "option 3 loss:2.0509732324215264\n",
      "\n",
      "pytorch loss:2.020328998565674\n",
      "\n",
      "Epoch 8/10\tloss=0.03366\toption 3 loss:2.220330632258663\n",
      "\n",
      "pytorch loss:2.0023956298828125\n",
      "Test loss: 2.00240option 3 loss:2.275292274525608\n",
      "\n",
      "pytorch loss:2.149996519088745\n",
      "option 3 loss:2.1083180837849573\n",
      "\n",
      "pytorch loss:2.019927501678467\n",
      "option 3 loss:2.282875498465133\n",
      "\n",
      "pytorch loss:2.147167205810547\n",
      "option 3 loss:2.2047815672362114\n",
      "\n",
      "pytorch loss:2.147427558898926\n",
      "option 3 loss:2.2512930204706807\n",
      "\n",
      "pytorch loss:2.0859549045562744\n",
      "option 3 loss:2.1781216571249966\n",
      "\n",
      "pytorch loss:2.147951602935791\n",
      "option 3 loss:2.257953736348789\n",
      "\n",
      "pytorch loss:2.0189685821533203\n",
      "option 3 loss:2.323319742405644\n",
      "\n",
      "pytorch loss:2.0187435150146484\n",
      "option 3 loss:2.189718757428441\n",
      "\n",
      "pytorch loss:2.151766777038574\n",
      "option 3 loss:2.2680640364285827\n",
      "\n",
      "pytorch loss:2.1490423679351807\n",
      "option 3 loss:2.1663775008216466\n",
      "\n",
      "pytorch loss:2.1439456939697266\n",
      "option 3 loss:2.178455085068364\n",
      "\n",
      "pytorch loss:2.1441986560821533\n",
      "option 3 loss:2.294394029574011\n",
      "\n",
      "pytorch loss:1.9996788501739502\n",
      "\n",
      "Epoch 9/10\tloss=0.03416\toption 3 loss:2.2349771618356358\n",
      "\n",
      "pytorch loss:2.152923107147217\n",
      "Test loss: 2.15292option 3 loss:2.1678220785493965\n",
      "\n",
      "pytorch loss:2.150129795074463\n",
      "option 3 loss:2.255523510521865\n",
      "\n",
      "pytorch loss:2.086045980453491\n",
      "option 3 loss:2.2067715351018595\n",
      "\n",
      "pytorch loss:2.0656402111053467\n",
      "option 3 loss:2.207907399386836\n",
      "\n",
      "pytorch loss:1.9989005327224731\n",
      "option 3 loss:2.208366117526735\n",
      "\n",
      "pytorch loss:2.1538286209106445\n",
      "option 3 loss:2.326408936742309\n",
      "\n",
      "pytorch loss:2.0622429847717285\n",
      "option 3 loss:2.2490722664431866\n",
      "\n",
      "pytorch loss:2.08610200881958\n",
      "option 3 loss:2.2587836737978595\n",
      "\n",
      "pytorch loss:2.1520209312438965\n",
      "option 3 loss:2.342231081680948\n",
      "\n",
      "pytorch loss:2.0861313343048096\n",
      "option 3 loss:2.2342044671868386\n",
      "\n",
      "pytorch loss:2.08615779876709\n",
      "option 3 loss:2.26259481113833\n",
      "\n",
      "pytorch loss:2.1552464962005615\n",
      "option 3 loss:2.200940154196041\n",
      "\n",
      "pytorch loss:2.061711549758911\n",
      "option 3 loss:2.2071237277441726\n",
      "\n",
      "pytorch loss:2.147747755050659\n",
      "\n",
      "Epoch 10/10\tloss=0.03411\toption 3 loss:2.2512501265724696\n",
      "\n",
      "pytorch loss:2.1537163257598877\n",
      "Test loss: 2.15372\n",
      "Training finished!\n",
      "Print prediction results:\n",
      "\tInput: [1. 0. 0. 0. 0. 0. 0. 0.]\tOutput: [[0.14 0.13 0.07 0.14 0.08 0.18 0.08 0.18]]\n",
      "\tInput: [0. 1. 0. 0. 0. 0. 0. 0.]\tOutput: [[0.17 0.12 0.06 0.13 0.07 0.19 0.07 0.18]]\n",
      "\tInput: [0. 0. 1. 0. 0. 0. 0. 0.]\tOutput: [[0.19 0.12 0.05 0.13 0.06 0.21 0.05 0.19]]\n",
      "\tInput: [0. 0. 0. 1. 0. 0. 0. 0.]\tOutput: [[0.18 0.13 0.04 0.14 0.05 0.21 0.04 0.2 ]]\n",
      "\tInput: [0. 0. 0. 0. 1. 0. 0. 0.]\tOutput: [[0.18 0.13 0.04 0.14 0.05 0.21 0.05 0.2 ]]\n",
      "\tInput: [0. 0. 0. 0. 0. 1. 0. 0.]\tOutput: [[0.18 0.12 0.05 0.13 0.06 0.21 0.06 0.19]]\n",
      "\tInput: [0. 0. 0. 0. 0. 0. 1. 0.]\tOutput: [[0.18 0.12 0.05 0.13 0.06 0.21 0.06 0.19]]\n",
      "\tInput: [0. 0. 0. 0. 0. 0. 0. 1.]\tOutput: [[0.17 0.13 0.05 0.14 0.06 0.2  0.06 0.19]]\n"
     ]
    }
   ],
   "source": [
    "# Training begins\n",
    "inds = list(range(x_train.shape[0]))\n",
    "N = x_train.shape[0]\n",
    "\n",
    "loss_hist = []\n",
    "for epoch in range(epochs):\n",
    "    inds = np.random.permutation(inds)\n",
    "    x_train = x_train[inds]\n",
    "    x_target = x_target[inds]\n",
    "    \n",
    "    loss = 0\n",
    "    for b in range(0, N, batch_size):\n",
    "        #0, 800, 64 \n",
    "        # get the mini-batch\n",
    "#         print(\"b:{}\".format(b))\n",
    "#         print(\"b+batch_size:{}\".format(b+batch_size))\n",
    "        x_batch = x_train[b: b+batch_size]\n",
    "#         print(\"x_batch:{}\".format(x_batch))\n",
    "        x_target_batch = x_target[b: b+batch_size]\n",
    "        \n",
    "        # feed forward\n",
    "#         print(x_batch)\n",
    "        pred = nn.predict(x_batch)\n",
    "        #pred = result from forward pass, i.e. H^{l-1}\n",
    "        \n",
    "        # Error\n",
    "        loss += nn.loss(pred, x_target_batch)/N\n",
    "        #this is the delta from the loss function\n",
    "        \n",
    "        # Back propagation of error\n",
    "        nn.backward(pred, x_target_batch)\n",
    "        \n",
    "        # Update parameters\n",
    "        nn.optimizer.step()\n",
    "    \n",
    "    # Record loss per epoch\n",
    "    loss_hist.append(loss)\n",
    "    \n",
    "    if epoch % freq == 0:\n",
    "        print()\n",
    "        print(\"Epoch %d/%d\\tloss=%.5f\" % (epoch + 1, epochs, loss), end='\\t', flush=True)\n",
    "        \n",
    "        # Test with the training data\n",
    "        pred = nn.predict(x_train, mode=False)\n",
    "        l = nn.loss(pred, x_target)\n",
    "        print(\"Test loss: {:.5f}\".format(l), end='')\n",
    "\n",
    "print(\"\\nTraining finished!\")\n",
    "print(\"Print prediction results:\")\n",
    "x_test = np.eye(num)[np.arange(num)]                        # Test data (one-hot encoded)\n",
    "np.set_printoptions(2)\n",
    "for x in x_test:\n",
    "    print(\"\\tInput: {}\\tOutput: {}\".format(x, softmax(nn.predict(x[None, :], mode=False))))"
   ]
  },
  {
   "cell_type": "markdown",
   "metadata": {
    "collapsed": false,
    "pycharm": {
     "name": "#%% md\n"
    }
   },
   "source": [
    "If you look at the output values of the network, clearly we have successfully trained the autoencoder to encode-decode 8-bit integers!\n",
    "\n",
    "## (E7) Your Turn:  Explain the autoencoder\n",
    "Given the trained model that can encode the 0-7 integers, explain how the NN model learned to encode/compress the numbers. Rather than just stating your reasoning in words, do explore the model closely to see what it has learned. "
   ]
  },
  {
   "cell_type": "markdown",
   "metadata": {
    "collapsed": true
   },
   "source": [
    "$$\n",
    "loss(x, y) = - \\frac{1}{C} * \\sum_i y[i] * \\log((1 + \\exp(-x[i]))^{-1})\n",
    "                         + (1-y[i]) * \\log\\left(\\frac{\\exp(-x[i])}{(1 + \\exp(-x[i]))}\\right)\n",
    "                         $$"
   ]
  },
  {
   "cell_type": "code",
   "execution_count": 12,
   "metadata": {
    "collapsed": false
   },
   "outputs": [
    {
     "data": {
      "text/plain": [
       "0.29736802"
      ]
     },
     "execution_count": 12,
     "metadata": {},
     "output_type": "execute_result"
    }
   ],
   "source": [
    "0.34922997 +0.13353835-0.54969662+0.20205826-0.36256657+0.5011707-0.4363535+0.45998743"
   ]
  },
  {
   "cell_type": "code",
   "execution_count": 13,
   "metadata": {
    "collapsed": true
   },
   "outputs": [],
   "source": [
    "def softmax(U):\n",
    "    # A numerically-stable implementation of the softmax function\n",
    "    exp = np.exp(U - np.max(U, axis=1, keepdims=True))\n",
    "    return exp / exp.sum(axis=1, keepdims=True)"
   ]
  },
  {
   "cell_type": "code",
   "execution_count": 14,
   "metadata": {
    "collapsed": false
   },
   "outputs": [
    {
     "data": {
      "text/plain": [
       "(800, 8)"
      ]
     },
     "execution_count": 14,
     "metadata": {},
     "output_type": "execute_result"
    }
   ],
   "source": [
    "pred.shape"
   ]
  },
  {
   "cell_type": "code",
   "execution_count": 15,
   "metadata": {
    "collapsed": false
   },
   "outputs": [
    {
     "data": {
      "text/plain": [
       "(32, 8)"
      ]
     },
     "execution_count": 15,
     "metadata": {},
     "output_type": "execute_result"
    }
   ],
   "source": [
    "x_target_batch.shape"
   ]
  },
  {
   "cell_type": "code",
   "execution_count": 16,
   "metadata": {
    "collapsed": false
   },
   "outputs": [
    {
     "data": {
      "text/plain": [
       "(800, 8)"
      ]
     },
     "execution_count": 16,
     "metadata": {},
     "output_type": "execute_result"
    }
   ],
   "source": [
    "np.log(softmax(pred)).shape"
   ]
  },
  {
   "cell_type": "code",
   "execution_count": 17,
   "metadata": {
    "collapsed": false
   },
   "outputs": [
    {
     "data": {
      "text/plain": [
       "(800, 8)"
      ]
     },
     "execution_count": 17,
     "metadata": {},
     "output_type": "execute_result"
    }
   ],
   "source": [
    "np.logaddexp(0, pred).shape"
   ]
  },
  {
   "cell_type": "code",
   "execution_count": 18,
   "metadata": {
    "collapsed": false
   },
   "outputs": [
    {
     "ename": "ValueError",
     "evalue": "shapes (8,32) and (800,8) not aligned: 32 (dim 1) != 800 (dim 0)",
     "output_type": "error",
     "traceback": [
      "\u001b[0;31m---------------------------------------------------------------------------\u001b[0m",
      "\u001b[0;31mValueError\u001b[0m                                Traceback (most recent call last)",
      "\u001b[0;32m<ipython-input-18-2fda3e91ff6e>\u001b[0m in \u001b[0;36m<module>\u001b[0;34m\u001b[0m\n\u001b[0;32m----> 1\u001b[0;31m \u001b[0mnp\u001b[0m\u001b[0;34m.\u001b[0m\u001b[0mdot\u001b[0m\u001b[0;34m(\u001b[0m\u001b[0;34m(\u001b[0m\u001b[0;36m1\u001b[0m\u001b[0;34m-\u001b[0m\u001b[0mx_target_batch\u001b[0m\u001b[0;34m)\u001b[0m\u001b[0;34m.\u001b[0m\u001b[0mT\u001b[0m\u001b[0;34m,\u001b[0m \u001b[0mnp\u001b[0m\u001b[0;34m.\u001b[0m\u001b[0mlogaddexp\u001b[0m\u001b[0;34m(\u001b[0m\u001b[0;36m0\u001b[0m\u001b[0;34m,\u001b[0m \u001b[0mpred\u001b[0m\u001b[0;34m)\u001b[0m\u001b[0;34m)\u001b[0m\u001b[0;34m\u001b[0m\u001b[0;34m\u001b[0m\u001b[0m\n\u001b[0m",
      "\u001b[0;32m<__array_function__ internals>\u001b[0m in \u001b[0;36mdot\u001b[0;34m(*args, **kwargs)\u001b[0m\n",
      "\u001b[0;31mValueError\u001b[0m: shapes (8,32) and (800,8) not aligned: 32 (dim 1) != 800 (dim 0)"
     ]
    }
   ],
   "source": [
    "np.dot((1-x_target_batch).T, np.logaddexp(0, pred))"
   ]
  },
  {
   "cell_type": "code",
   "execution_count": null,
   "metadata": {
    "collapsed": false
   },
   "outputs": [],
   "source": [
    "-np.sum(np.dot(target.T, np.logaddexp(0, -pred)) + np.dot((1-target).T, np.logaddexp(0, pred)))"
   ]
  },
  {
   "cell_type": "code",
   "execution_count": null,
   "metadata": {
    "collapsed": true
   },
   "outputs": [],
   "source": []
  }
 ],
 "metadata": {
  "kernelspec": {
   "display_name": "Python 3",
   "language": "python",
   "name": "python3"
  },
  "language_info": {
   "codemirror_mode": {
    "name": "ipython",
    "version": 3
   },
   "file_extension": ".py",
   "mimetype": "text/x-python",
   "name": "python",
   "nbconvert_exporter": "python",
   "pygments_lexer": "ipython3",
   "version": "3.7.3"
  },
  "pycharm": {
   "stem_cell": {
    "cell_type": "raw",
    "metadata": {
     "collapsed": false
    },
    "source": []
   }
  }
 },
 "nbformat": 4,
 "nbformat_minor": 0
}
