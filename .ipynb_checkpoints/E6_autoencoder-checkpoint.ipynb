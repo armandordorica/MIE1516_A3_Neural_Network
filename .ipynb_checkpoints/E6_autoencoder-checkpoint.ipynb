{
 "cells": [
  {
   "cell_type": "markdown",
   "metadata": {
    "collapsed": false
   },
   "source": [
    "# (E6) Autoencoders\n",
    "In this exercise, you will be given an example of [autoencoders](https://en.wikipedia.org/wiki/Autoencoder). \n",
    "You should be able to replicate the results given here if you have completed (E2)-(E5) correctly.\n",
    "\n",
    "It would be best if you have a Python IDE (integrated development environment) such as [PyCharm](https://www.jetbrains.com/pycharm/) and [Anaconda](anaconda.com) is installed because they will make your life easier! If not, you may want to work on the assignment using Google Colab. In any cases, what you need to do is 1) to fill in the blanks in .py files; and 2) to import the files (e.g., layer.py, optim.py, model.py, etc) that you have completed for use. Here are some scenarios how you would go about doing the assignment: \n",
    "\n",
    "#### Without Google Colab: Python IDE + Anaconda \n",
    "If you have a Python IDE and Anaconda installed, you can do one of the following:\n",
    "- Edit .py files in the IDE. Then, simply open .ipynb file also in the IDE where you can edit and run codes. \n",
    "- Your IDE might not support running .ipynb files. However, since you have installed Anaconda, you can just open this notebook using Jupyter Notebook.\n",
    "\n",
    "In both of these cases, you can simply import .py files in this .ipynb file:\n",
    "```python\n",
    "from model import NeuralNetwork\n",
    "```\n",
    " \n",
    "#### With Google Colab\n",
    "- Google Colab has an embedded code editor. So, you could simply upload all .py files to Google Colab and edit the files there. Once you upload the files, double click a file that you want to edit. Please **make sure that you download up-to-date files frequently**, otherwise Google Colab might accidentally restart and all your files might be gone.\n",
    "- If you feel like the above way is cumbersome, you could instead use any online Python editors for completing .py files (e.g., see [repl.it](https://repl.it/languages/python3)). Also, it's not impossible that you edit the files using any text editors, but they don't show you essential Python grammar information, so you'll be prone to make mistakes in that case. Once you are done editing, you can either upload the files to Colab or follow the instruction below. \n",
    " \n",
    "- If you have *git clone*d the assignment repository to a directory in your Google Drive (or you have the files stored in the Drive anyway), you can do the following:\n",
    "```jupyterpython\n",
    "from google.colab import drive\n",
    "drive.mount('/content/drive/')          # this will direct you to a link where you can get an authorization key\n",
    "import sys\n",
    "sys.path.append('/content/drive/My Drive/your-directory-where-the-python-files-exist')\n",
    "```\n",
    "Then, you are good to go. When you change a .py file, make sure it is synced to the drive, then you need to re-run the above lines to get access to the latest version of the file. Note that you should give correct path to *sys.path.append* method.\n",
    "\n",
    "Now, let's get started!\n",
    "## Autoencoder\n",
    "### Input and Target\n",
    "An autoencoder learns the latent embeddings of inputs in an unsupervised way. This is because we do not need to have specific target values associated with the inputs; however, the input data themselves will act as the targets. \n",
    "\n",
    "To see it more concretely, let's look at below code which prepares the data for learning an autoencoder. "
   ]
  },
  {
   "cell_type": "code",
   "execution_count": 1,
   "metadata": {
    "collapsed": false,
    "pycharm": {
     "is_executing": false,
     "name": "#%%\n"
    }
   },
   "outputs": [],
   "source": [
    "from model import NeuralNetwork"
   ]
  },
  {
   "cell_type": "code",
   "execution_count": null,
   "metadata": {
    "collapsed": false,
    "pycharm": {
     "name": "#%%\n"
    }
   },
   "outputs": [],
   "source": []
  },
  {
   "cell_type": "code",
   "execution_count": 2,
   "metadata": {
    "collapsed": false,
    "pycharm": {
     "is_executing": false,
     "name": "#%%\n"
    }
   },
   "outputs": [],
   "source": [
    "import numpy as np\n",
    "def generate_data(num=8):\n",
    "    \"\"\" Generate 'num' number of one-hot encoded integers. \"\"\" \n",
    "    x_train = np.eye(num)[np.arange(num)]                       # This is a simple way to one-hot encode integers\n",
    "    \n",
    "    # Repeat x_train multiple times for training\n",
    "    x_train = np.repeat(x_train, 100, axis=0)\n",
    "    \n",
    "    # The target is x_train itself!\n",
    "    x_target = x_train.copy()\n",
    "    return x_train, x_target    "
   ]
  },
  {
   "cell_type": "markdown",
   "metadata": {
    "collapsed": false,
    "pycharm": {
     "name": "#%% md\n"
    }
   },
   "source": [
    "Clearly, *x_target* is the same as *x_train*. So, what we want to do is to encode 8-bit inputs using 3 hidden nodes, which in turn will be decoded back to the original 8-bit value by the decoder. Learning an autoencoder, therefore, means that we train both the encoder weight and the decoder weight. In our example, since we have 3 hidden nodes in a single layer, the encoder weight has *[8, 3]* shape, whereas the decoder weight has *[3, 8]* shape. \n",
    "\n",
    "### Training an Autoencoder\n",
    "Now, let us train an autoencoder with the sigmoid activation function and the cross-entropy loss."
   ]
  },
  {
   "cell_type": "code",
   "execution_count": 3,
   "metadata": {
    "collapsed": false,
    "pycharm": {
     "is_executing": false,
     "name": "#%%\n"
    }
   },
   "outputs": [],
   "source": [
    "from model import NeuralNetwork\n",
    "from layer import FCLayer\n",
    "from activation import Activation\n",
    "from utils import *\n",
    "from loss import CrossEntropyLoss\n",
    "from optim import SGD, Adam, RMSProp\n",
    "# Load data\n",
    "num = 8\n",
    "np.random.seed(10)\n",
    "x_train, x_target = generate_data(num=num)"
   ]
  },
  {
   "cell_type": "code",
   "execution_count": 4,
   "metadata": {
    "collapsed": false,
    "pycharm": {
     "is_executing": false,
     "name": "#%%\n"
    }
   },
   "outputs": [],
   "source": [
    "# Define a model and add fully-connected and activation layers.\n",
    "nn = NeuralNetwork()\n",
    "nn.add(FCLayer(x_train.shape[1], 3, initialization='xavier', uniform=False))\n",
    "nn.add(Activation(sigmoid, sigmoid_prime))\n",
    "nn.add(FCLayer(3, x_train.shape[1], initialization='xavier', uniform=False))"
   ]
  },
  {
   "cell_type": "code",
   "execution_count": 5,
   "metadata": {
    "collapsed": false
   },
   "outputs": [
    {
     "data": {
      "text/plain": [
       "[<layer.FCLayer at 0x12d548cf8>,\n",
       " <activation.Activation at 0x12d548d68>,\n",
       " <layer.FCLayer at 0x12d548e80>]"
      ]
     },
     "execution_count": 5,
     "metadata": {},
     "output_type": "execute_result"
    }
   ],
   "source": [
    "nn.layers"
   ]
  },
  {
   "cell_type": "markdown",
   "metadata": {
    "collapsed": false
   },
   "source": [
    "## Assigning the Cross Entropy Loss functions to the model"
   ]
  },
  {
   "cell_type": "code",
   "execution_count": 6,
   "metadata": {
    "collapsed": false,
    "pycharm": {
     "is_executing": false,
     "name": "#%%\n"
    }
   },
   "outputs": [],
   "source": [
    "# Define loss: note that CrossEntropyLoss is using the softmax output internally\n",
    "loss = CrossEntropyLoss()\n",
    "nn.set_loss(loss)"
   ]
  },
  {
   "cell_type": "code",
   "execution_count": 7,
   "metadata": {
    "collapsed": false,
    "pycharm": {
     "is_executing": false,
     "name": "#%%\n"
    }
   },
   "outputs": [],
   "source": [
    "# Set up hyperparameters\n",
    "lr = 0.0001\n",
    "epochs = 2000\n",
    "freq = epochs // 10\n",
    "batch_size = 64"
   ]
  },
  {
   "cell_type": "code",
   "execution_count": 8,
   "metadata": {
    "collapsed": false
   },
   "outputs": [
    {
     "data": {
      "text/plain": [
       "(1, 8)"
      ]
     },
     "execution_count": 8,
     "metadata": {},
     "output_type": "execute_result"
    }
   ],
   "source": [
    "nn.parameters()[3].shape"
   ]
  },
  {
   "cell_type": "code",
   "execution_count": 9,
   "metadata": {
    "collapsed": false
   },
   "outputs": [
    {
     "name": "stdout",
     "output_type": "stream",
     "text": [
      "(8, 3)\n",
      "(1, 3)\n",
      "(3, 8)\n",
      "(1, 8)\n"
     ]
    }
   ],
   "source": [
    "for i in range(0,len(nn.parameters())):\n",
    "    print(nn.parameters()[i].shape)\n"
   ]
  },
  {
   "cell_type": "code",
   "execution_count": 10,
   "metadata": {
    "collapsed": false,
    "pycharm": {
     "is_executing": false,
     "name": "#%%\n"
    }
   },
   "outputs": [],
   "source": [
    "# Define optimizer and associate it with the model\n",
    "optimizer = Adam(nn.parameters(), lr=lr)\n",
    "nn.set_optimizer(optimizer)"
   ]
  },
  {
   "cell_type": "code",
   "execution_count": null,
   "metadata": {
    "collapsed": false
   },
   "outputs": [],
   "source": []
  },
  {
   "cell_type": "code",
   "execution_count": 11,
   "metadata": {
    "collapsed": false,
    "pycharm": {
     "is_executing": false,
     "name": "#%%\n"
    }
   },
   "outputs": [
    {
     "name": "stdout",
     "output_type": "stream",
     "text": [
      "\n",
      "Epoch 1/2000\tloss=0.03323\tTest loss: 2.12953\n",
      "Epoch 201/2000\tloss=0.03972\tTest loss: 1.85378\n",
      "Epoch 401/2000\tloss=0.04268\tTest loss: 1.29289\n",
      "Epoch 601/2000\tloss=0.05660\tTest loss: 1.27542\n",
      "Epoch 801/2000\tloss=0.07872\tTest loss: 2.69093\n",
      "Epoch 1001/2000\tloss=0.08554\tTest loss: 1.40464\n",
      "Epoch 1201/2000\tloss=0.09134\tTest loss: 12.95868\n",
      "Epoch 1401/2000\tloss=0.13221\tTest loss: 1.11239\n",
      "Epoch 1601/2000\tloss=0.09349\tTest loss: 1.10204\n",
      "Epoch 1801/2000\tloss=0.11349\tTest loss: 5.17344\n",
      "Training finished!\n",
      "Print prediction results:\n",
      "\tInput: [1. 0. 0. 0. 0. 0. 0. 0.]\tOutput: [[0.27 0.   0.   0.   0.   0.37 0.   0.35]]\n",
      "\tInput: [0. 1. 0. 0. 0. 0. 0. 0.]\tOutput: [[0.29 0.   0.   0.   0.   0.37 0.   0.33]]\n",
      "\tInput: [0. 0. 1. 0. 0. 0. 0. 0.]\tOutput: [[3.03e-01 2.24e-03 2.81e-09 3.43e-03 3.53e-09 3.56e-01 2.79e-09 3.35e-01]]\n",
      "\tInput: [0. 0. 0. 1. 0. 0. 0. 0.]\tOutput: [[3.03e-01 2.24e-03 2.72e-09 3.44e-03 3.42e-09 3.56e-01 2.70e-09 3.36e-01]]\n",
      "\tInput: [0. 0. 0. 0. 1. 0. 0. 0.]\tOutput: [[3.03e-01 2.24e-03 2.74e-09 3.44e-03 3.44e-09 3.56e-01 2.72e-09 3.36e-01]]\n",
      "\tInput: [0. 0. 0. 0. 0. 1. 0. 0.]\tOutput: [[3.03e-01 2.24e-03 2.83e-09 3.43e-03 3.56e-09 3.56e-01 2.81e-09 3.35e-01]]\n",
      "\tInput: [0. 0. 0. 0. 0. 0. 1. 0.]\tOutput: [[3.03e-01 2.24e-03 2.87e-09 3.43e-03 3.61e-09 3.56e-01 2.85e-09 3.35e-01]]\n",
      "\tInput: [0. 0. 0. 0. 0. 0. 0. 1.]\tOutput: [[3.03e-01 2.24e-03 2.79e-09 3.44e-03 3.50e-09 3.56e-01 2.77e-09 3.36e-01]]\n"
     ]
    }
   ],
   "source": [
    "# Training begins\n",
    "inds = list(range(x_train.shape[0]))\n",
    "N = x_train.shape[0]\n",
    "\n",
    "loss_hist = []\n",
    "total_pred_hist = []\n",
    "total_loss_hist = []\n",
    "for epoch in range(epochs):\n",
    "    inds = np.random.permutation(inds)\n",
    "    x_train = x_train[inds]\n",
    "    x_target = x_target[inds]\n",
    "    \n",
    "    loss = 0\n",
    "    for b in range(0, N, batch_size):\n",
    "        #0, 800, 64 \n",
    "        # get the mini-batch\n",
    "#         print(\"b:{}\".format(b))\n",
    "#         print(\"b+batch_size:{}\".format(b+batch_size))\n",
    "        x_batch = x_train[b: b+batch_size]\n",
    "#         print(\"x_batch:{}\".format(x_batch))\n",
    "        x_target_batch = x_target[b: b+batch_size]\n",
    "        \n",
    "        # feed forward\n",
    "#         print(x_batch)\n",
    "        pred = nn.predict(x_batch)\n",
    "        total_pred_hist.append(pred)\n",
    "        #pred = result from forward pass, i.e. H^{l-1}\n",
    "        \n",
    "        # Error\n",
    "        loss += nn.loss(pred, x_target_batch)/N\n",
    "        total_loss_hist.append(loss)\n",
    "        #this is the delta from the loss function\n",
    "        \n",
    "        # Back propagation of error\n",
    "        nn.backward(pred, x_target_batch)\n",
    "        \n",
    "        # Update parameters\n",
    "        nn.optimizer.step()\n",
    "    \n",
    "    # Record loss per epoch\n",
    "    loss_hist.append(loss)\n",
    "    \n",
    "    if epoch % freq == 0:\n",
    "        print()\n",
    "        print(\"Epoch %d/%d\\tloss=%.5f\" % (epoch + 1, epochs, loss), end='\\t', flush=True)\n",
    "        \n",
    "        # Test with the training data\n",
    "        pred = nn.predict(x_train, mode=False)\n",
    "        l = nn.loss(pred, x_target)\n",
    "        print(\"Test loss: {:.5f}\".format(l), end='')\n",
    "\n",
    "print(\"\\nTraining finished!\")\n",
    "print(\"Print prediction results:\")\n",
    "x_test = np.eye(num)[np.arange(num)]                        # Test data (one-hot encoded)\n",
    "np.set_printoptions(2)\n",
    "for x in x_test:\n",
    "    print(\"\\tInput: {}\\tOutput: {}\".format(x, softmax(nn.predict(x[None, :], mode=False))))"
   ]
  },
  {
   "cell_type": "markdown",
   "metadata": {
    "collapsed": false,
    "pycharm": {
     "name": "#%% md\n"
    }
   },
   "source": [
    "If you look at the output values of the network, clearly we have successfully trained the autoencoder to encode-decode 8-bit integers!\n",
    "\n",
    "## (E7) Your Turn:  Explain the autoencoder\n",
    "Given the trained model that can encode the 0-7 integers, explain how the NN model learned to encode/compress the numbers. Rather than just stating your reasoning in words, do explore the model closely to see what it has learned. "
   ]
  },
  {
   "cell_type": "markdown",
   "metadata": {
    "collapsed": true
   },
   "source": [
    "$$\n",
    "loss(x, y) = - \\frac{1}{C} * \\sum_i y[i] * \\log((1 + \\exp(-x[i]))^{-1})\n",
    "                         + (1-y[i]) * \\log\\left(\\frac{\\exp(-x[i])}{(1 + \\exp(-x[i]))}\\right)\n",
    "                         $$"
   ]
  },
  {
   "cell_type": "code",
   "execution_count": 18,
   "metadata": {
    "collapsed": false
   },
   "outputs": [],
   "source": [
    "loss_hist = np.array(loss_hist).astype(float)"
   ]
  },
  {
   "cell_type": "code",
   "execution_count": 22,
   "metadata": {
    "collapsed": false
   },
   "outputs": [
    {
     "data": {
      "image/png": "[encoded data removed]",
      "text/plain": [
       "<Figure size 432x288 with 1 Axes>"
      ]
     },
     "metadata": {
      "needs_background": "light"
     },
     "output_type": "display_data"
    }
   ],
   "source": [
    "import matplotlib.pyplot as plt\n",
    "%matplotlib inline\n",
    "plt.plot(loss_hist) # Plot list. x-values assumed to be [0, 1, 2, 3]\n",
    "plt.title(\"Loss history\")\n",
    "plt.show() "
   ]
  },
  {
   "cell_type": "code",
   "execution_count": 27,
   "metadata": {
    "collapsed": false
   },
   "outputs": [
    {
     "data": {
      "text/plain": [
       "[<matplotlib.lines.Line2D at 0x105a8ada0>,\n",
       " <matplotlib.lines.Line2D at 0x105a8aef0>,\n",
       " <matplotlib.lines.Line2D at 0x105a96048>,\n",
       " <matplotlib.lines.Line2D at 0x105a96198>,\n",
       " <matplotlib.lines.Line2D at 0x105a962e8>,\n",
       " <matplotlib.lines.Line2D at 0x105a96438>,\n",
       " <matplotlib.lines.Line2D at 0x105a96588>,\n",
       " <matplotlib.lines.Line2D at 0x105a966d8>]"
      ]
     },
     "execution_count": 27,
     "metadata": {},
     "output_type": "execute_result"
    },
    {
     "data": {
      "image/png": "[encoded data removed]",
      "text/plain": [
       "<Figure size 432x288 with 1 Axes>"
      ]
     },
     "metadata": {
      "needs_background": "light"
     },
     "output_type": "display_data"
    }
   ],
   "source": [
    "plt.plot(x_train, 'ro')"
   ]
  },
  {
   "cell_type": "code",
   "execution_count": 31,
   "metadata": {
    "collapsed": false
   },
   "outputs": [
    {
     "ename": "AttributeError",
     "evalue": "'numpy.ndarray' object has no attribute 'iloc'",
     "output_type": "error",
     "traceback": [
      "\u001b[0;31m---------------------------------------------------------------------------\u001b[0m",
      "\u001b[0;31mAttributeError\u001b[0m                            Traceback (most recent call last)",
      "\u001b[0;32m<ipython-input-31-163a8c8d6174>\u001b[0m in \u001b[0;36m<module>\u001b[0;34m\u001b[0m\n\u001b[0;32m----> 1\u001b[0;31m \u001b[0mx_train\u001b[0m\u001b[0;34m[\u001b[0m\u001b[0;36m0\u001b[0m\u001b[0;34m]\u001b[0m\u001b[0;34m.\u001b[0m\u001b[0miloc\u001b[0m\u001b[0;34m[\u001b[0m\u001b[0;36m1\u001b[0m\u001b[0;34m]\u001b[0m\u001b[0;34m\u001b[0m\u001b[0;34m\u001b[0m\u001b[0m\n\u001b[0m",
      "\u001b[0;31mAttributeError\u001b[0m: 'numpy.ndarray' object has no attribute 'iloc'"
     ]
    }
   ],
   "source": [
    "x = numpy.array([1,0,2,0,3,0,4,5,6,7,8])\n",
    "numpy.where(x == 0)[0]\n",
    "array([1, 3, 5])"
   ]
  },
  {
   "cell_type": "code",
   "execution_count": 48,
   "metadata": {
    "collapsed": false
   },
   "outputs": [],
   "source": [
    "empty_list = []\n",
    "for i in range(0, len(x_train)): \n",
    "    empty_list.append(int(np.where(x_train[i] ==1)[0]))"
   ]
  },
  {
   "cell_type": "code",
   "execution_count": 51,
   "metadata": {
    "collapsed": false
   },
   "outputs": [
    {
     "data": {
      "text/plain": [
       "[<matplotlib.lines.Line2D at 0x1311900b8>]"
      ]
     },
     "execution_count": 51,
     "metadata": {},
     "output_type": "execute_result"
    },
    {
     "data": {
      "image/png": "[encoded data removed]",
      "text/plain": [
       "<Figure size 432x288 with 1 Axes>"
      ]
     },
     "metadata": {
      "needs_background": "light"
     },
     "output_type": "display_data"
    }
   ],
   "source": [
    "plt.plot(empty_list, 'ro')"
   ]
  },
  {
   "cell_type": "code",
   "execution_count": 61,
   "metadata": {
    "collapsed": false
   },
   "outputs": [
    {
     "data": {
      "text/plain": [
       "(array([100.,   0.,   0.,   0.,   0., 100.,   0.,   0.,   0.,   0.,   0.,\n",
       "        100.,   0.,   0.,   0.,   0.,   0., 100.,   0.,   0.,   0.,   0.,\n",
       "        100.,   0.,   0.,   0.,   0.,   0., 100.,   0.,   0.,   0.,   0.,\n",
       "          0., 100.,   0.,   0.,   0.,   0., 100.]),\n",
       " array([0.  , 0.17, 0.35, 0.52, 0.7 , 0.88, 1.05, 1.22, 1.4 , 1.57, 1.75,\n",
       "        1.92, 2.1 , 2.27, 2.45, 2.62, 2.8 , 2.97, 3.15, 3.32, 3.5 , 3.67,\n",
       "        3.85, 4.02, 4.2 , 4.38, 4.55, 4.72, 4.9 , 5.07, 5.25, 5.42, 5.6 ,\n",
       "        5.77, 5.95, 6.12, 6.3 , 6.47, 6.65, 6.82, 7.  ]),\n",
       " <a list of 40 Patch objects>)"
      ]
     },
     "execution_count": 61,
     "metadata": {},
     "output_type": "execute_result"
    },
    {
     "data": {
      "image/png": "[encoded data removed]",
      "text/plain": [
       "<Figure size 432x288 with 1 Axes>"
      ]
     },
     "metadata": {
      "needs_background": "light"
     },
     "output_type": "display_data"
    }
   ],
   "source": [
    "plt.hist(empty_list, bins= 40)"
   ]
  },
  {
   "cell_type": "code",
   "execution_count": null,
   "metadata": {
    "collapsed": true
   },
   "outputs": [],
   "source": []
  }
 ],
 "metadata": {
  "kernelspec": {
   "display_name": "Python 3",
   "language": "python",
   "name": "python3"
  },
  "language_info": {
   "codemirror_mode": {
    "name": "ipython",
    "version": 3
   },
   "file_extension": ".py",
   "mimetype": "text/x-python",
   "name": "python",
   "nbconvert_exporter": "python",
   "pygments_lexer": "ipython3",
   "version": "3.7.3"
  },
  "pycharm": {
   "stem_cell": {
    "cell_type": "raw",
    "metadata": {
     "collapsed": false
    },
    "source": []
   }
  }
 },
 "nbformat": 4,
 "nbformat_minor": 0
}
