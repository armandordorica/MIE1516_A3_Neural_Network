{
 "cells": [
  {
   "cell_type": "markdown",
   "metadata": {
    "collapsed": false
   },
   "source": [
    "# (E6) Autoencoders\n",
    "In this exercise, you will be given an example of [autoencoders](https://en.wikipedia.org/wiki/Autoencoder). \n",
    "You should be able to replicate the results given here if you have completed (E2)-(E5) correctly.\n",
    "\n",
    "It would be best if you have a Python IDE (integrated development environment) such as [PyCharm](https://www.jetbrains.com/pycharm/) and [Anaconda](anaconda.com) is installed because they will make your life easier! If not, you may want to work on the assignment using Google Colab. In any cases, what you need to do is 1) to fill in the blanks in .py files; and 2) to import the files (e.g., layer.py, optim.py, model.py, etc) that you have completed for use. Here are some scenarios how you would go about doing the assignment: \n",
    "\n",
    "#### Without Google Colab: Python IDE + Anaconda \n",
    "If you have a Python IDE and Anaconda installed, you can do one of the following:\n",
    "- Edit .py files in the IDE. Then, simply open .ipynb file also in the IDE where you can edit and run codes. \n",
    "- Your IDE might not support running .ipynb files. However, since you have installed Anaconda, you can just open this notebook using Jupyter Notebook.\n",
    "\n",
    "In both of these cases, you can simply import .py files in this .ipynb file:\n",
    "```python\n",
    "from model import NeuralNetwork\n",
    "```\n",
    " \n",
    "#### With Google Colab\n",
    "- Google Colab has an embedded code editor. So, you could simply upload all .py files to Google Colab and edit the files there. Once you upload the files, double click a file that you want to edit. Please **make sure that you download up-to-date files frequently**, otherwise Google Colab might accidentally restart and all your files might be gone.\n",
    "- If you feel like the above way is cumbersome, you could instead use any online Python editors for completing .py files (e.g., see [repl.it](https://repl.it/languages/python3)). Also, it's not impossible that you edit the files using any text editors, but they don't show you essential Python grammar information, so you'll be prone to make mistakes in that case. Once you are done editing, you can either upload the files to Colab or follow the instruction below. \n",
    " \n",
    "- If you have *git clone*d the assignment repository to a directory in your Google Drive (or you have the files stored in the Drive anyway), you can do the following:\n",
    "```jupyterpython\n",
    "from google.colab import drive\n",
    "drive.mount('/content/drive/')          # this will direct you to a link where you can get an authorization key\n",
    "import sys\n",
    "sys.path.append('/content/drive/My Drive/your-directory-where-the-python-files-exist')\n",
    "```\n",
    "Then, you are good to go. When you change a .py file, make sure it is synced to the drive, then you need to re-run the above lines to get access to the latest version of the file. Note that you should give correct path to *sys.path.append* method.\n",
    "\n",
    "Now, let's get started!\n",
    "## Autoencoder\n",
    "### Input and Target\n",
    "An autoencoder learns the latent embeddings of inputs in an unsupervised way. This is because we do not need to have specific target values associated with the inputs; however, the input data themselves will act as the targets. \n",
    "\n",
    "To see it more concretely, let's look at below code which prepares the data for learning an autoencoder. "
   ]
  },
  {
   "cell_type": "code",
   "execution_count": 1,
   "metadata": {
    "collapsed": false,
    "pycharm": {
     "is_executing": false,
     "name": "#%%\n"
    }
   },
   "outputs": [],
   "source": [
    "from model import NeuralNetwork"
   ]
  },
  {
   "cell_type": "code",
   "execution_count": null,
   "metadata": {
    "collapsed": false,
    "pycharm": {
     "name": "#%%\n"
    }
   },
   "outputs": [],
   "source": []
  },
  {
   "cell_type": "code",
   "execution_count": 2,
   "metadata": {
    "collapsed": false,
    "pycharm": {
     "is_executing": false,
     "name": "#%%\n"
    }
   },
   "outputs": [],
   "source": [
    "import numpy as np\n",
    "def generate_data(num=8):\n",
    "    \"\"\" Generate 'num' number of one-hot encoded integers. \"\"\" \n",
    "    x_train = np.eye(num)[np.arange(num)]                       # This is a simple way to one-hot encode integers\n",
    "    \n",
    "    # Repeat x_train multiple times for training\n",
    "    x_train = np.repeat(x_train, 100, axis=0)\n",
    "    \n",
    "    # The target is x_train itself!\n",
    "    x_target = x_train.copy()\n",
    "    return x_train, x_target    "
   ]
  },
  {
   "cell_type": "markdown",
   "metadata": {
    "collapsed": false,
    "pycharm": {
     "name": "#%% md\n"
    }
   },
   "source": [
    "Clearly, *x_target* is the same as *x_train*. So, what we want to do is to encode 8-bit inputs using 3 hidden nodes, which in turn will be decoded back to the original 8-bit value by the decoder. Learning an autoencoder, therefore, means that we train both the encoder weight and the decoder weight. In our example, since we have 3 hidden nodes in a single layer, the encoder weight has *[8, 3]* shape, whereas the decoder weight has *[3, 8]* shape. \n",
    "\n",
    "### Training an Autoencoder\n",
    "Now, let us train an autoencoder with the sigmoid activation function and the cross-entropy loss."
   ]
  },
  {
   "cell_type": "code",
   "execution_count": 3,
   "metadata": {
    "collapsed": false,
    "pycharm": {
     "is_executing": false,
     "name": "#%%\n"
    }
   },
   "outputs": [
    {
     "name": "stdout",
     "output_type": "stream",
     "text": [
      "Cross entropy loss instance created\n"
     ]
    }
   ],
   "source": [
    "from model import NeuralNetwork\n",
    "from layer import FCLayer\n",
    "from activation import Activation\n",
    "from utils import *\n",
    "from loss import CrossEntropyLoss\n",
    "from optim import SGD, Adam, RMSProp\n",
    "# Load data\n",
    "num = 8\n",
    "np.random.seed(10)\n",
    "x_train, x_target = generate_data(num=num)"
   ]
  },
  {
   "cell_type": "code",
   "execution_count": 4,
   "metadata": {
    "collapsed": false,
    "pycharm": {
     "is_executing": false,
     "name": "#%%\n"
    }
   },
   "outputs": [
    {
     "name": "stdout",
     "output_type": "stream",
     "text": [
      "Inside initializer of Neural network\n",
      "Inside initialization method of FCLayer\n",
      "Input size:8\n",
      "Output size:3\n",
      "Chosen initialization is Xavier\n",
      "Weights are: [[ 0.34178446 -0.83706495  0.15820871]\n",
      " [ 0.30901392 -0.00173665 -0.34759134]\n",
      " [-0.38902911  0.3258963  -0.43736108]\n",
      " [-0.60395221  0.22321135  0.72765241]\n",
      " [-0.94055671  0.01418411  0.40639535]\n",
      " [ 0.13251348  0.27140894 -0.25306922]\n",
      " [ 0.6196499   0.26170311  0.04957357]\n",
      " [-0.48658219 -0.14966109  0.20879795]]\n",
      "Shape of weights matrix is: (8, 3)\n",
      "Bias matrix is: [[0. 0. 0.]]\n",
      "Shape of Bias matrix is: (1, 3)\n",
      "self.param: [<param.Parameter object at 0x120ccc6a0>, <param.Parameter object at 0x120ccc710>]\n",
      "Len of self.param list is: 2\n",
      "FC Layer created\n",
      "..................................................................\n",
      "\n",
      "Inside add layer method of Neural Network \n",
      "Inside of Activation layer...\n",
      "Activation Layer created with act: <function sigmoid at 0x120cbfea0> and act_prime: <function sigmoid_prime at 0x120cbff28>\n",
      "..................................................................\n",
      "\n",
      "Inside add layer method of Neural Network \n",
      "Inside initialization method of FCLayer\n",
      "Input size:3\n",
      "Output size:8\n",
      "Chosen initialization is Xavier\n",
      "Weights are: [[-0.06787981 -0.07707689  0.13885186  0.01528498  0.17889931  0.11869772\n",
      "   0.39431682  0.02519133]\n",
      " [ 0.59644704 -0.21728761 -0.59865477 -0.24138818 -0.54407686  0.43352561\n",
      "  -0.72662132  0.14920733]\n",
      " [ 0.05547256  0.41749808 -0.3876134   0.48470545 -0.17635038  0.31737905\n",
      "  -0.24764297  0.53957645]]\n",
      "Shape of weights matrix is: (3, 8)\n",
      "Bias matrix is: [[0. 0. 0. 0. 0. 0. 0. 0.]]\n",
      "Shape of Bias matrix is: (1, 8)\n",
      "self.param: [<param.Parameter object at 0x120ccc780>, <param.Parameter object at 0x120ccc5c0>]\n",
      "Len of self.param list is: 2\n",
      "FC Layer created\n",
      "..................................................................\n",
      "\n",
      "Inside add layer method of Neural Network \n"
     ]
    }
   ],
   "source": [
    "# Define a model and add fully-connected and activation layers.\n",
    "nn = NeuralNetwork()\n",
    "nn.add(FCLayer(x_train.shape[1], 3, initialization='xavier', uniform=False))\n",
    "nn.add(Activation(sigmoid, sigmoid_prime))\n",
    "nn.add(FCLayer(3, x_train.shape[1], initialization='xavier', uniform=False))"
   ]
  },
  {
   "cell_type": "code",
   "execution_count": 5,
   "metadata": {
    "collapsed": false
   },
   "outputs": [
    {
     "data": {
      "text/plain": [
       "[<layer.FCLayer at 0x120ccc550>,\n",
       " <activation.Activation at 0x120ccc5f8>,\n",
       " <layer.FCLayer at 0x1091df9e8>]"
      ]
     },
     "execution_count": 5,
     "metadata": {},
     "output_type": "execute_result"
    }
   ],
   "source": [
    "nn.layers"
   ]
  },
  {
   "cell_type": "markdown",
   "metadata": {
    "collapsed": false
   },
   "source": [
    "## Assigning the Cross Entropy Loss functions to the model"
   ]
  },
  {
   "cell_type": "code",
   "execution_count": 6,
   "metadata": {
    "collapsed": false,
    "pycharm": {
     "is_executing": false,
     "name": "#%%\n"
    }
   },
   "outputs": [
    {
     "name": "stdout",
     "output_type": "stream",
     "text": [
      "Inside set loss of NeuralNetwork\n",
      "Setting loss = <bound method CrossEntropyLoss.loss of <loss.CrossEntropyLoss object at 0x120cccba8>>\n",
      "Setting diff_loss = <bound method CrossEntropyLoss.diff_loss of <loss.CrossEntropyLoss object at 0x120cccba8>>\n"
     ]
    }
   ],
   "source": [
    "# Define loss: note that CrossEntropyLoss is using the softmax output internally\n",
    "loss = CrossEntropyLoss()\n",
    "nn.set_loss(loss)"
   ]
  },
  {
   "cell_type": "code",
   "execution_count": 7,
   "metadata": {
    "collapsed": false,
    "pycharm": {
     "is_executing": false,
     "name": "#%%\n"
    }
   },
   "outputs": [],
   "source": [
    "# Set up hyperparameters\n",
    "lr = 0.001\n",
    "epochs = 2000\n",
    "freq = epochs // 10\n",
    "batch_size = 64"
   ]
  },
  {
   "cell_type": "code",
   "execution_count": 8,
   "metadata": {
    "collapsed": false
   },
   "outputs": [
    {
     "name": "stdout",
     "output_type": "stream",
     "text": [
      "Inside parameter method of NeuralNetwork \n"
     ]
    },
    {
     "data": {
      "text/plain": [
       "(1, 8)"
      ]
     },
     "execution_count": 8,
     "metadata": {},
     "output_type": "execute_result"
    }
   ],
   "source": [
    "nn.parameters()[3].shape"
   ]
  },
  {
   "cell_type": "code",
   "execution_count": 9,
   "metadata": {
    "collapsed": false
   },
   "outputs": [
    {
     "name": "stdout",
     "output_type": "stream",
     "text": [
      "Inside parameter method of NeuralNetwork \n",
      "Inside parameter method of NeuralNetwork \n",
      "(8, 3)\n",
      "Inside parameter method of NeuralNetwork \n",
      "(1, 3)\n",
      "Inside parameter method of NeuralNetwork \n",
      "(3, 8)\n",
      "Inside parameter method of NeuralNetwork \n",
      "(1, 8)\n"
     ]
    }
   ],
   "source": [
    "for i in range(0,len(nn.parameters())):\n",
    "    print(nn.parameters()[i].shape)\n"
   ]
  },
  {
   "cell_type": "code",
   "execution_count": 10,
   "metadata": {
    "collapsed": false,
    "pycharm": {
     "is_executing": false,
     "name": "#%%\n"
    }
   },
   "outputs": [
    {
     "name": "stdout",
     "output_type": "stream",
     "text": [
      "Inside parameter method of NeuralNetwork \n",
      "Initializing an Adam optimizer with learning rate: 0.001 ...\n",
      "There are 4 elements in param_lst\n",
      "param.m_t: [[0. 0. 0.]\n",
      " [0. 0. 0.]\n",
      " [0. 0. 0.]\n",
      " [0. 0. 0.]\n",
      " [0. 0. 0.]\n",
      " [0. 0. 0.]\n",
      " [0. 0. 0.]\n",
      " [0. 0. 0.]]\n",
      "param.v_t: [[0. 0. 0.]\n",
      " [0. 0. 0.]\n",
      " [0. 0. 0.]\n",
      " [0. 0. 0.]\n",
      " [0. 0. 0.]\n",
      " [0. 0. 0.]\n",
      " [0. 0. 0.]\n",
      " [0. 0. 0.]]\n",
      "There are 4 elements in param_lst\n",
      "param.m_t: [[0. 0. 0.]]\n",
      "param.v_t: [[0. 0. 0.]]\n",
      "There are 4 elements in param_lst\n",
      "param.m_t: [[0. 0. 0. 0. 0. 0. 0. 0.]\n",
      " [0. 0. 0. 0. 0. 0. 0. 0.]\n",
      " [0. 0. 0. 0. 0. 0. 0. 0.]]\n",
      "param.v_t: [[0. 0. 0. 0. 0. 0. 0. 0.]\n",
      " [0. 0. 0. 0. 0. 0. 0. 0.]\n",
      " [0. 0. 0. 0. 0. 0. 0. 0.]]\n",
      "There are 4 elements in param_lst\n",
      "param.m_t: [[0. 0. 0. 0. 0. 0. 0. 0.]]\n",
      "param.v_t: [[0. 0. 0. 0. 0. 0. 0. 0.]]\n",
      "Inside set_optimizer of NeuralNetwork\n"
     ]
    }
   ],
   "source": [
    "# Define optimizer and associate it with the model\n",
    "optimizer = Adam(nn.parameters(), lr=lr)\n",
    "nn.set_optimizer(optimizer)"
   ]
  },
  {
   "cell_type": "code",
   "execution_count": null,
   "metadata": {
    "collapsed": false
   },
   "outputs": [],
   "source": []
  },
  {
   "cell_type": "code",
   "execution_count": 11,
   "metadata": {
    "collapsed": false,
    "pycharm": {
     "is_executing": false,
     "name": "#%%\n"
    }
   },
   "outputs": [
    {
     "name": "stdout",
     "output_type": "stream",
     "text": [
      "b:0\n",
      "b+batch_size:64\n",
      "[[0. 1. 0. 0. 0. 0. 0. 0.]\n",
      " [0. 0. 0. 0. 1. 0. 0. 0.]\n",
      " [0. 0. 1. 0. 0. 0. 0. 0.]\n",
      " [0. 0. 0. 0. 1. 0. 0. 0.]\n",
      " [0. 0. 0. 1. 0. 0. 0. 0.]\n",
      " [0. 0. 1. 0. 0. 0. 0. 0.]\n",
      " [0. 0. 0. 0. 0. 0. 0. 1.]\n",
      " [0. 0. 1. 0. 0. 0. 0. 0.]\n",
      " [0. 1. 0. 0. 0. 0. 0. 0.]\n",
      " [1. 0. 0. 0. 0. 0. 0. 0.]\n",
      " [0. 1. 0. 0. 0. 0. 0. 0.]\n",
      " [0. 0. 0. 0. 0. 1. 0. 0.]\n",
      " [0. 0. 0. 0. 0. 0. 0. 1.]\n",
      " [0. 0. 1. 0. 0. 0. 0. 0.]\n",
      " [0. 0. 0. 0. 0. 1. 0. 0.]\n",
      " [0. 0. 0. 0. 0. 1. 0. 0.]\n",
      " [0. 0. 0. 0. 1. 0. 0. 0.]\n",
      " [0. 1. 0. 0. 0. 0. 0. 0.]\n",
      " [0. 0. 0. 0. 0. 0. 1. 0.]\n",
      " [0. 0. 0. 0. 0. 1. 0. 0.]\n",
      " [0. 0. 0. 0. 0. 1. 0. 0.]\n",
      " [0. 0. 0. 0. 1. 0. 0. 0.]\n",
      " [0. 0. 0. 0. 1. 0. 0. 0.]\n",
      " [0. 1. 0. 0. 0. 0. 0. 0.]\n",
      " [0. 0. 1. 0. 0. 0. 0. 0.]\n",
      " [0. 0. 0. 0. 0. 0. 0. 1.]\n",
      " [1. 0. 0. 0. 0. 0. 0. 0.]\n",
      " [1. 0. 0. 0. 0. 0. 0. 0.]\n",
      " [0. 0. 0. 0. 0. 0. 1. 0.]\n",
      " [1. 0. 0. 0. 0. 0. 0. 0.]\n",
      " [0. 0. 0. 0. 0. 0. 0. 1.]\n",
      " [1. 0. 0. 0. 0. 0. 0. 0.]\n",
      " [0. 0. 0. 1. 0. 0. 0. 0.]\n",
      " [0. 0. 0. 1. 0. 0. 0. 0.]\n",
      " [1. 0. 0. 0. 0. 0. 0. 0.]\n",
      " [0. 1. 0. 0. 0. 0. 0. 0.]\n",
      " [0. 0. 0. 0. 0. 0. 1. 0.]\n",
      " [0. 0. 0. 1. 0. 0. 0. 0.]\n",
      " [0. 0. 0. 1. 0. 0. 0. 0.]\n",
      " [0. 0. 0. 0. 0. 0. 0. 1.]\n",
      " [0. 0. 0. 0. 1. 0. 0. 0.]\n",
      " [0. 0. 0. 0. 0. 0. 0. 1.]\n",
      " [0. 0. 0. 0. 0. 0. 0. 1.]\n",
      " [0. 0. 0. 0. 0. 0. 1. 0.]\n",
      " [0. 0. 1. 0. 0. 0. 0. 0.]\n",
      " [1. 0. 0. 0. 0. 0. 0. 0.]\n",
      " [0. 0. 0. 0. 0. 0. 0. 1.]\n",
      " [1. 0. 0. 0. 0. 0. 0. 0.]\n",
      " [0. 0. 0. 0. 0. 0. 1. 0.]\n",
      " [0. 0. 0. 0. 0. 1. 0. 0.]\n",
      " [0. 0. 0. 1. 0. 0. 0. 0.]\n",
      " [0. 1. 0. 0. 0. 0. 0. 0.]\n",
      " [1. 0. 0. 0. 0. 0. 0. 0.]\n",
      " [0. 0. 0. 0. 0. 1. 0. 0.]\n",
      " [0. 0. 0. 0. 0. 0. 0. 1.]\n",
      " [0. 0. 0. 0. 0. 0. 0. 1.]\n",
      " [1. 0. 0. 0. 0. 0. 0. 0.]\n",
      " [0. 0. 1. 0. 0. 0. 0. 0.]\n",
      " [0. 0. 0. 0. 0. 0. 1. 0.]\n",
      " [0. 0. 1. 0. 0. 0. 0. 0.]\n",
      " [0. 0. 0. 0. 1. 0. 0. 0.]\n",
      " [0. 0. 0. 0. 0. 0. 1. 0.]\n",
      " [1. 0. 0. 0. 0. 0. 0. 0.]\n",
      " [0. 1. 0. 0. 0. 0. 0. 0.]]\n",
      "Inside predict method of Neural network...\n",
      "Input data shape:(64, 8)\n",
      "Inside forward propagation of FCLayer \n",
      "Size of mini batch : 64\n",
      "Input data shape :(64, 8)\n",
      "self.weights shape: (8, 3)\n",
      "self.bias shape:(1, 3) \n",
      "shape of np.dot(self.input_data, self.weights.value): (64, 3)\n",
      "Vector of 1s has a shape: (64, 1)\n",
      "Shape of the forward output (U): (64, 3)\n",
      "Inside forward method of Activation Layer \n",
      "Shape of input_data:(64, 3)\n",
      "Shape of activation output (H):(64, 3)\n",
      "Inside forward propagation of FCLayer \n",
      "Size of mini batch : 64\n",
      "Input data shape :(64, 3)\n",
      "self.weights shape: (3, 8)\n",
      "self.bias shape:(1, 8) \n",
      "shape of np.dot(self.input_data, self.weights.value): (64, 8)\n",
      "Vector of 1s has a shape: (64, 1)\n",
      "Shape of the forward output (U): (64, 8)\n",
      "output data shape:(64, 8)\n",
      "Inside loss method from CrossEntropyLoss class .........\n",
      "Shape of pred:(64, 8)\n",
      " Shape of target:(64, 8)\n",
      "Calculated loss from Cross Entropy Loss:136.1699648272555\n",
      "Shape of loss is: ()\n",
      "Loss is : 136.1699648272555 \n",
      "\n",
      "Inside backward method on Neural Network \n",
      "Inside diff_loss method from CrossEntropyLoss class\n",
      "Shape of pred:(64, 8)\n",
      " Shape of target:(64, 8)\n",
      "Shape of output from dif_loss method in Loss class: (64, 8)\n",
      "...................\n",
      "Shape of delta from cross entropy diff_loss is:(64, 8) \n",
      "Going backwards, lth layer is:<layer.FCLayer object at 0x1091df9e8> \n",
      " Current layer is:<class 'layer.FCLayer'>\n",
      "Inside of backward propagation of FCLayer\n",
      "Calling this function for the 1th time\n",
      "Input delta_n shape: (64, 8)\n",
      "Shape of self.output is: (64, 8)\n",
      "Shape of 1s vector:(64, 1)\n",
      "Output delta shape:(64, 3)\n",
      "Calculated dEdW shape:(8, 3)\n",
      "Calculated dEdb shape:(1, 8)\n",
      "...................\n",
      "Shape of delta from cross entropy diff_loss is:(64, 3) \n",
      "Going backwards, lth layer is:<activation.Activation object at 0x120ccc5f8> \n",
      " Current layer is:<class 'activation.Activation'>\n",
      "Inside backward method of Activation Layer \n",
      "self is of type: <class 'activation.Activation'>\n",
      "Input delta has shape:(64, 3)\n",
      "...................\n",
      "Shape of delta from cross entropy diff_loss is:(64, 3) \n",
      "Going backwards, lth layer is:<layer.FCLayer object at 0x120ccc550> \n",
      " Current layer is:<class 'layer.FCLayer'>\n",
      "Inside of backward propagation of FCLayer\n",
      "Calling this function for the 1th time\n",
      "Input delta_n shape: (64, 3)\n",
      "Shape of self.output is: (64, 3)\n",
      "Shape of 1s vector:(64, 1)\n",
      "Output delta shape:(64, 8)\n",
      "Calculated dEdW shape:(3, 8)\n",
      "Calculated dEdb shape:(1, 3)\n",
      "type of self.beta1 shape is:<class 'float'>\n",
      "self.beta1 = 0.9\n",
      "param.m_t shape is:(8, 3)\n",
      "param.grad shape is:(3, 8)\n"
     ]
    },
    {
     "ename": "ValueError",
     "evalue": "operands could not be broadcast together with shapes (8,3) (3,8) ",
     "output_type": "error",
     "traceback": [
      "\u001b[0;31m---------------------------------------------------------------------------\u001b[0m",
      "\u001b[0;31mValueError\u001b[0m                                Traceback (most recent call last)",
      "\u001b[0;32m<ipython-input-11-18e8a4f19d68>\u001b[0m in \u001b[0;36m<module>\u001b[0;34m\u001b[0m\n\u001b[1;32m     32\u001b[0m \u001b[0;34m\u001b[0m\u001b[0m\n\u001b[1;32m     33\u001b[0m         \u001b[0;31m# Update parameters\u001b[0m\u001b[0;34m\u001b[0m\u001b[0;34m\u001b[0m\u001b[0;34m\u001b[0m\u001b[0m\n\u001b[0;32m---> 34\u001b[0;31m         \u001b[0mnn\u001b[0m\u001b[0;34m.\u001b[0m\u001b[0moptimizer\u001b[0m\u001b[0;34m.\u001b[0m\u001b[0mstep\u001b[0m\u001b[0;34m(\u001b[0m\u001b[0;34m)\u001b[0m\u001b[0;34m\u001b[0m\u001b[0;34m\u001b[0m\u001b[0m\n\u001b[0m\u001b[1;32m     35\u001b[0m \u001b[0;34m\u001b[0m\u001b[0m\n\u001b[1;32m     36\u001b[0m     \u001b[0;31m# Record loss per epoch\u001b[0m\u001b[0;34m\u001b[0m\u001b[0;34m\u001b[0m\u001b[0;34m\u001b[0m\u001b[0m\n",
      "\u001b[0;32m~/Downloads/assignment-3-armandordorica-master/neural-net/optim.py\u001b[0m in \u001b[0;36mstep\u001b[0;34m(self)\u001b[0m\n\u001b[1;32m    153\u001b[0m             \u001b[0mprint\u001b[0m\u001b[0;34m(\u001b[0m\u001b[0;34m\"param.m_t shape is:{}\"\u001b[0m\u001b[0;34m.\u001b[0m\u001b[0mformat\u001b[0m\u001b[0;34m(\u001b[0m\u001b[0mparam\u001b[0m\u001b[0;34m.\u001b[0m\u001b[0mm_t\u001b[0m\u001b[0;34m.\u001b[0m\u001b[0mshape\u001b[0m\u001b[0;34m)\u001b[0m\u001b[0;34m)\u001b[0m\u001b[0;34m\u001b[0m\u001b[0;34m\u001b[0m\u001b[0m\n\u001b[1;32m    154\u001b[0m             \u001b[0mprint\u001b[0m\u001b[0;34m(\u001b[0m\u001b[0;34m\"param.grad shape is:{}\"\u001b[0m\u001b[0;34m.\u001b[0m\u001b[0mformat\u001b[0m\u001b[0;34m(\u001b[0m\u001b[0mparam\u001b[0m\u001b[0;34m.\u001b[0m\u001b[0mgrad\u001b[0m\u001b[0;34m.\u001b[0m\u001b[0mshape\u001b[0m\u001b[0;34m)\u001b[0m\u001b[0;34m)\u001b[0m\u001b[0;34m\u001b[0m\u001b[0;34m\u001b[0m\u001b[0m\n\u001b[0;32m--> 155\u001b[0;31m             \u001b[0mparam\u001b[0m\u001b[0;34m.\u001b[0m\u001b[0mm_t\u001b[0m \u001b[0;34m=\u001b[0m \u001b[0mself\u001b[0m\u001b[0;34m.\u001b[0m\u001b[0mbeta1\u001b[0m \u001b[0;34m*\u001b[0m \u001b[0mparam\u001b[0m\u001b[0;34m.\u001b[0m\u001b[0mm_t\u001b[0m \u001b[0;34m+\u001b[0m \u001b[0;34m(\u001b[0m\u001b[0;36m1\u001b[0m \u001b[0;34m-\u001b[0m \u001b[0mself\u001b[0m\u001b[0;34m.\u001b[0m\u001b[0mbeta1\u001b[0m\u001b[0;34m)\u001b[0m \u001b[0;34m*\u001b[0m \u001b[0mparam\u001b[0m\u001b[0;34m.\u001b[0m\u001b[0mgrad\u001b[0m\u001b[0;34m\u001b[0m\u001b[0;34m\u001b[0m\u001b[0m\n\u001b[0m\u001b[1;32m    156\u001b[0m             \u001b[0mparam\u001b[0m\u001b[0;34m.\u001b[0m\u001b[0mv_t\u001b[0m \u001b[0;34m=\u001b[0m \u001b[0mself\u001b[0m\u001b[0;34m.\u001b[0m\u001b[0mbeta2\u001b[0m \u001b[0;34m*\u001b[0m \u001b[0mparam\u001b[0m\u001b[0;34m.\u001b[0m\u001b[0mv_t\u001b[0m \u001b[0;34m+\u001b[0m \u001b[0;34m(\u001b[0m\u001b[0;36m1\u001b[0m \u001b[0;34m-\u001b[0m \u001b[0mself\u001b[0m\u001b[0;34m.\u001b[0m\u001b[0mbeta2\u001b[0m\u001b[0;34m)\u001b[0m \u001b[0;34m*\u001b[0m \u001b[0;34m(\u001b[0m\u001b[0mparam\u001b[0m\u001b[0;34m.\u001b[0m\u001b[0mgrad\u001b[0m\u001b[0;34m**\u001b[0m\u001b[0;36m2\u001b[0m\u001b[0;34m)\u001b[0m\u001b[0;34m\u001b[0m\u001b[0;34m\u001b[0m\u001b[0m\n\u001b[1;32m    157\u001b[0m \u001b[0;34m\u001b[0m\u001b[0m\n",
      "\u001b[0;31mValueError\u001b[0m: operands could not be broadcast together with shapes (8,3) (3,8) "
     ]
    }
   ],
   "source": [
    "# Training begins\n",
    "inds = list(range(x_train.shape[0]))\n",
    "N = x_train.shape[0]\n",
    "\n",
    "loss_hist = []\n",
    "for epoch in range(epochs):\n",
    "    inds = np.random.permutation(inds)\n",
    "    x_train = x_train[inds]\n",
    "    x_target = x_target[inds]\n",
    "    \n",
    "    loss = 0\n",
    "    for b in range(0, N, batch_size):\n",
    "        #0, 800, 64 \n",
    "        # get the mini-batch\n",
    "#         print(\"b:{}\".format(b))\n",
    "#         print(\"b+batch_size:{}\".format(b+batch_size))\n",
    "        x_batch = x_train[b: b+batch_size]\n",
    "#         print(\"x_batch:{}\".format(x_batch))\n",
    "        x_target_batch = x_target[b: b+batch_size]\n",
    "        \n",
    "        # feed forward\n",
    "#         print(x_batch)\n",
    "        pred = nn.predict(x_batch)\n",
    "        #pred = result from forward pass, i.e. H^{l-1}\n",
    "        \n",
    "        # Error\n",
    "        loss += nn.loss(pred, x_target_batch) / N\n",
    "        #this is the delta from the loss function\n",
    "        \n",
    "        # Back propagation of error\n",
    "        nn.backward(pred, x_target_batch)\n",
    "        \n",
    "        # Update parameters\n",
    "        nn.optimizer.step()\n",
    "    \n",
    "    # Record loss per epoch\n",
    "    loss_hist.append(loss)\n",
    "    \n",
    "    if epoch % freq == 0:\n",
    "        print()\n",
    "        print(\"Epoch %d/%d\\tloss=%.5f\" % (epoch + 1, epochs, loss), end='\\t', flush=True)\n",
    "        \n",
    "        # Test with the training data\n",
    "        pred = nn.predict(x_train, mode=False)\n",
    "        l = nn.loss(pred, x_target)\n",
    "        print(\"Test loss: {:.5f}\".format(l), end='')\n",
    "\n",
    "print(\"\\nTraining finished!\")\n",
    "print(\"Print prediction results:\")\n",
    "x_test = np.eye(num)[np.arange(num)]                        # Test data (one-hot encoded)\n",
    "np.set_printoptions(2)\n",
    "for x in x_test:\n",
    "    print(\"\\tInput: {}\\tOutput: {}\".format(x, softmax(nn.predict(x[None, :], mode=False))))"
   ]
  },
  {
   "cell_type": "markdown",
   "metadata": {
    "collapsed": false,
    "pycharm": {
     "name": "#%% md\n"
    }
   },
   "source": [
    "If you look at the output values of the network, clearly we have successfully trained the autoencoder to encode-decode 8-bit integers!\n",
    "\n",
    "## (E7) Your Turn:  Explain the autoencoder\n",
    "Given the trained model that can encode the 0-7 integers, explain how the NN model learned to encode/compress the numbers. Rather than just stating your reasoning in words, do explore the model closely to see what it has learned. "
   ]
  },
  {
   "cell_type": "code",
   "execution_count": null,
   "metadata": {
    "collapsed": false
   },
   "outputs": [],
   "source": [
    "nn.layers"
   ]
  },
  {
   "cell_type": "code",
   "execution_count": null,
   "metadata": {
    "collapsed": true
   },
   "outputs": [],
   "source": []
  }
 ],
 "metadata": {
  "kernelspec": {
   "display_name": "Python 3",
   "language": "python",
   "name": "python3"
  },
  "language_info": {
   "codemirror_mode": {
    "name": "ipython",
    "version": 3
   },
   "file_extension": ".py",
   "mimetype": "text/x-python",
   "name": "python",
   "nbconvert_exporter": "python",
   "pygments_lexer": "ipython3",
   "version": "3.7.3"
  },
  "pycharm": {
   "stem_cell": {
    "cell_type": "raw",
    "metadata": {
     "collapsed": false
    },
    "source": []
   }
  }
 },
 "nbformat": 4,
 "nbformat_minor": 0
}
